{
 "cells": [
  {
   "cell_type": "code",
   "execution_count": 1,
   "metadata": {},
   "outputs": [],
   "source": [
    "from pyspark.sql import SparkSession"
   ]
  },
  {
   "cell_type": "code",
   "execution_count": 2,
   "metadata": {},
   "outputs": [],
   "source": [
    "Spark = SparkSession.builder.appName('Cust').getOrCreate()"
   ]
  },
  {
   "cell_type": "code",
   "execution_count": 3,
   "metadata": {},
   "outputs": [],
   "source": [
    "from pyspark.ml.regression import LinearRegression"
   ]
  },
  {
   "cell_type": "code",
   "execution_count": 5,
   "metadata": {},
   "outputs": [],
   "source": [
    "Data = Spark.read.csv('Ecommerce_Customers.csv',inferSchema=True,header=True)"
   ]
  },
  {
   "cell_type": "code",
   "execution_count": 8,
   "metadata": {},
   "outputs": [
    {
     "name": "stdout",
     "output_type": "stream",
     "text": [
      "+--------------------+--------------------+------------------+-----------+---------------+--------------------+-------------------+\n",
      "|               Email|             Address|Avg Session Length|Time on App|Time on Website|Length of Membership|Yearly Amount Spent|\n",
      "+--------------------+--------------------+------------------+-----------+---------------+--------------------+-------------------+\n",
      "|mstephenson@ferna...|835 Frank TunnelW...|       34.49726773|12.65565115|    39.57766802|         4.082620633|         587.951054|\n",
      "|   hduke@hotmail.com|4547 Archer Commo...|       31.92627203|11.10946073|    37.26895887|         2.664034182|        392.2049334|\n",
      "|    pallen@yahoo.com|24645 Valerie Uni...|       33.00091476|11.33027806|    37.11059744|         4.104543202|        487.5475049|\n",
      "|riverarebecca@gma...|1414 David Throug...|       34.30555663|13.71751367|    36.72128268|         3.120178783|         581.852344|\n",
      "|mstephens@davidso...|14023 Rodriguez P...|       33.33067252|12.79518855|     37.5366533|         4.446308318|         599.406092|\n",
      "|alvareznancy@luca...|645 Martha Park A...|       33.87103788|12.02692534|    34.47687763|         5.493507201|        637.1024479|\n",
      "|katherine20@yahoo...|68388 Reyes Light...|        32.0215955|11.36634831|    36.68377615|         4.685017247|        521.5721748|\n",
      "|  awatkins@yahoo.com|Unit 6538 Box 898...|       32.73914294|12.35195897|    37.37335886|         4.434273435|        549.9041461|\n",
      "|vchurch@walter-ma...|860 Lee KeyWest D...|        33.9877729|13.38623528|    37.53449734|         3.273433578|         570.200409|\n",
      "|    bonnie69@lin.biz|PSC 2734, Box 525...|       31.93654862|11.81412829|    37.14516822|         3.202806072|        427.1993849|\n",
      "|andrew06@peterson...|26104 Alexander G...|       33.99257277|13.33897545|    37.22580613|         2.482607771|        492.6060127|\n",
      "|ryanwerner@freema...|Unit 2413 Box 034...|       33.87936082|  11.584783|    37.08792607|         3.713209203|        522.3374046|\n",
      "|   knelson@gmail.com|6705 Miller Orcha...|       29.53242897| 10.9612984|    37.42021558|         4.046423164|        408.6403511|\n",
      "|wrightpeter@yahoo...|05302 Dunlap Ferr...|       33.19033404|12.95922609|     36.1446667|         3.918541839|        573.4158673|\n",
      "|taylormason@gmail...|7773 Powell Sprin...|       32.38797585|13.14872569|    36.61995708|         2.494543647|        470.4527333|\n",
      "| jstark@anderson.com|49558 Ramirez Roa...|       30.73772037|12.63660605|    36.21376309|         3.357846842|        461.7807422|\n",
      "| wjennings@gmail.com|6362 Wilson Mount...|        32.1253869|11.73386169|    34.89409275|         3.136132716|        457.8476959|\n",
      "|rebecca45@hale-ba...|8982 Burton RowWi...|       32.33889932|12.01319469|    38.38513659|         2.420806161|        407.7045475|\n",
      "|alejandro75@hotma...|64475 Andre Club ...|       32.18781205|14.71538754|    38.24411459|         1.516575581|        452.3156755|\n",
      "|samuel46@love-wes...|544 Alexander Hei...|       32.61785606|13.98959256|     37.1905038|          4.06454855|        605.0610388|\n",
      "|   megan33@gmail.com|84426 Julia Vista...|       32.91278511|11.36549203|    37.60779252|         4.599937358|        534.7057438|\n",
      "|   agolden@yahoo.com|PSC 2490, Box 212...|       33.50308726| 12.8779837|    37.44102134|          1.55915194|        419.9387748|\n",
      "|vstafford@hotmail...|PSC 5723, Box 815...|       31.53160448|13.37856278|    38.73400629|         2.245147787|        436.5156057|\n",
      "|denise22@hernande...|USNS CardenasFPO ...|       32.90325097|11.65757592|    36.77260376|         3.919302309|        519.3409891|\n",
      "|youngbarbara@yaho...|019 Elliott Tunne...|         34.507551| 12.8936695|    37.63575588|         5.705153971|        700.9170916|\n",
      "|william25@mcconne...|9495 Mary Fall Ap...|       33.02933195|11.76581265|    37.73852495|         2.721735992|        423.1799917|\n",
      "|ijones@schaefer-c...|657 Judith Crossr...|       33.54123131|12.78389178|    36.43064962|         4.648199316|        619.8956399|\n",
      "|heatherhall@yahoo...|8522 Regina Port ...|       32.33598964|13.00781942|    37.85177917|         2.996364526|        486.8389348|\n",
      "|tinasmith@martine...|40000 Ann Port Su...|       33.11020506|11.98204499|    35.29308775|         3.923488746|        529.5376653|\n",
      "|chasejennifer@hot...|9507 Robert Prair...|       33.10543794|   11.96502|    37.27781174|          4.74257752|        554.7220838|\n",
      "|jenniferbarnett@g...|0772 Michael Isle...|       33.24190043|12.30541781|    36.16364817|         3.062368145|        497.5866713|\n",
      "| jared39@hotmail.com|739 David Isle Su...|        33.4610563|10.86916381|    35.62244242|         3.471413452|        447.6879065|\n",
      "|briancarlson@page...|USCGC GillFPO AA ...|       32.17550124|13.38749211|    35.69417499|         4.343062915|        588.7126055|\n",
      "|joshuaodom@gmail.com|5277 Patel BrookE...|          32.72836|13.10450724|    38.87804051|         2.820097234|        491.0732237|\n",
      "|vickie90@lee-wils...|9135 Rodriguez Da...|       32.82030995|11.63489325|    35.36862633|         4.124585297|        507.4418323|\n",
      "| duane56@hotmail.com|24373 Mcgee Drive...|       33.61603789| 11.9363865|      38.768641|         3.649286158|        521.8835732|\n",
      "|     enash@gmail.com|997 Campbell Flat...|       31.72165236| 11.7550237|    36.76572236|         1.847370423|        347.7769266|\n",
      "|sandraharrison@ba...|7835 Rogers Roads...|       32.86532717|11.98441752|     37.0443614|         3.452388583|        490.7386321|\n",
      "|cunninghamwilliam...|4589 Dan FordsBea...|       32.74936818|9.954975969|    37.38831487|         4.650491269|        478.1703341|\n",
      "|teresaallen@hill-...|1958 Robert Bridg...|       32.56723048|12.48901322|    36.37147981|         4.222436225|        537.8461953|\n",
      "+--------------------+--------------------+------------------+-----------+---------------+--------------------+-------------------+\n",
      "only showing top 40 rows\n",
      "\n"
     ]
    }
   ],
   "source": [
    "Data.show(40)"
   ]
  },
  {
   "cell_type": "code",
   "execution_count": 10,
   "metadata": {},
   "outputs": [
    {
     "name": "stdout",
     "output_type": "stream",
     "text": [
      "root\n",
      " |-- Email: string (nullable = true)\n",
      " |-- Address: string (nullable = true)\n",
      " |-- Avg Session Length: double (nullable = true)\n",
      " |-- Time on App: double (nullable = true)\n",
      " |-- Time on Website: double (nullable = true)\n",
      " |-- Length of Membership: double (nullable = true)\n",
      " |-- Yearly Amount Spent: double (nullable = true)\n",
      "\n"
     ]
    }
   ],
   "source": [
    "Data.printSchema()"
   ]
  },
  {
   "cell_type": "code",
   "execution_count": 11,
   "metadata": {},
   "outputs": [],
   "source": [
    "from pyspark.ml.linalg import Vectors\n",
    "from pyspark.ml.feature import VectorAssembler"
   ]
  },
  {
   "cell_type": "code",
   "execution_count": 13,
   "metadata": {},
   "outputs": [],
   "source": [
    "feature = VectorAssembler(inputCols=['Avg Session Length','Time on App','Time on Website','Length of Membership'],outputCol='Independent Feature')"
   ]
  },
  {
   "cell_type": "code",
   "execution_count": 15,
   "metadata": {},
   "outputs": [],
   "source": [
    "output=feature.transform(Data)"
   ]
  },
  {
   "cell_type": "code",
   "execution_count": 16,
   "metadata": {},
   "outputs": [
    {
     "name": "stdout",
     "output_type": "stream",
     "text": [
      "+--------------------+--------------------+------------------+-----------+---------------+--------------------+-------------------+--------------------+\n",
      "|               Email|             Address|Avg Session Length|Time on App|Time on Website|Length of Membership|Yearly Amount Spent| Independent Feature|\n",
      "+--------------------+--------------------+------------------+-----------+---------------+--------------------+-------------------+--------------------+\n",
      "|mstephenson@ferna...|835 Frank TunnelW...|       34.49726773|12.65565115|    39.57766802|         4.082620633|         587.951054|[34.49726773,12.6...|\n",
      "|   hduke@hotmail.com|4547 Archer Commo...|       31.92627203|11.10946073|    37.26895887|         2.664034182|        392.2049334|[31.92627203,11.1...|\n",
      "|    pallen@yahoo.com|24645 Valerie Uni...|       33.00091476|11.33027806|    37.11059744|         4.104543202|        487.5475049|[33.00091476,11.3...|\n",
      "|riverarebecca@gma...|1414 David Throug...|       34.30555663|13.71751367|    36.72128268|         3.120178783|         581.852344|[34.30555663,13.7...|\n",
      "|mstephens@davidso...|14023 Rodriguez P...|       33.33067252|12.79518855|     37.5366533|         4.446308318|         599.406092|[33.33067252,12.7...|\n",
      "|alvareznancy@luca...|645 Martha Park A...|       33.87103788|12.02692534|    34.47687763|         5.493507201|        637.1024479|[33.87103788,12.0...|\n",
      "|katherine20@yahoo...|68388 Reyes Light...|        32.0215955|11.36634831|    36.68377615|         4.685017247|        521.5721748|[32.0215955,11.36...|\n",
      "|  awatkins@yahoo.com|Unit 6538 Box 898...|       32.73914294|12.35195897|    37.37335886|         4.434273435|        549.9041461|[32.73914294,12.3...|\n",
      "|vchurch@walter-ma...|860 Lee KeyWest D...|        33.9877729|13.38623528|    37.53449734|         3.273433578|         570.200409|[33.9877729,13.38...|\n",
      "|    bonnie69@lin.biz|PSC 2734, Box 525...|       31.93654862|11.81412829|    37.14516822|         3.202806072|        427.1993849|[31.93654862,11.8...|\n",
      "|andrew06@peterson...|26104 Alexander G...|       33.99257277|13.33897545|    37.22580613|         2.482607771|        492.6060127|[33.99257277,13.3...|\n",
      "|ryanwerner@freema...|Unit 2413 Box 034...|       33.87936082|  11.584783|    37.08792607|         3.713209203|        522.3374046|[33.87936082,11.5...|\n",
      "|   knelson@gmail.com|6705 Miller Orcha...|       29.53242897| 10.9612984|    37.42021558|         4.046423164|        408.6403511|[29.53242897,10.9...|\n",
      "|wrightpeter@yahoo...|05302 Dunlap Ferr...|       33.19033404|12.95922609|     36.1446667|         3.918541839|        573.4158673|[33.19033404,12.9...|\n",
      "|taylormason@gmail...|7773 Powell Sprin...|       32.38797585|13.14872569|    36.61995708|         2.494543647|        470.4527333|[32.38797585,13.1...|\n",
      "| jstark@anderson.com|49558 Ramirez Roa...|       30.73772037|12.63660605|    36.21376309|         3.357846842|        461.7807422|[30.73772037,12.6...|\n",
      "| wjennings@gmail.com|6362 Wilson Mount...|        32.1253869|11.73386169|    34.89409275|         3.136132716|        457.8476959|[32.1253869,11.73...|\n",
      "|rebecca45@hale-ba...|8982 Burton RowWi...|       32.33889932|12.01319469|    38.38513659|         2.420806161|        407.7045475|[32.33889932,12.0...|\n",
      "|alejandro75@hotma...|64475 Andre Club ...|       32.18781205|14.71538754|    38.24411459|         1.516575581|        452.3156755|[32.18781205,14.7...|\n",
      "|samuel46@love-wes...|544 Alexander Hei...|       32.61785606|13.98959256|     37.1905038|          4.06454855|        605.0610388|[32.61785606,13.9...|\n",
      "+--------------------+--------------------+------------------+-----------+---------------+--------------------+-------------------+--------------------+\n",
      "only showing top 20 rows\n",
      "\n"
     ]
    }
   ],
   "source": [
    "output.show()"
   ]
  },
  {
   "cell_type": "code",
   "execution_count": 17,
   "metadata": {},
   "outputs": [
    {
     "name": "stdout",
     "output_type": "stream",
     "text": [
      "root\n",
      " |-- Email: string (nullable = true)\n",
      " |-- Address: string (nullable = true)\n",
      " |-- Avg Session Length: double (nullable = true)\n",
      " |-- Time on App: double (nullable = true)\n",
      " |-- Time on Website: double (nullable = true)\n",
      " |-- Length of Membership: double (nullable = true)\n",
      " |-- Yearly Amount Spent: double (nullable = true)\n",
      " |-- Independent Feature: vector (nullable = true)\n",
      "\n"
     ]
    }
   ],
   "source": [
    "output.printSchema()"
   ]
  },
  {
   "cell_type": "code",
   "execution_count": 18,
   "metadata": {},
   "outputs": [],
   "source": [
    "finalized_features = output.select('Independent Feature','Yearly Amount Spent')"
   ]
  },
  {
   "cell_type": "code",
   "execution_count": 20,
   "metadata": {},
   "outputs": [
    {
     "name": "stdout",
     "output_type": "stream",
     "text": [
      "+--------------------+-------------------+\n",
      "| Independent Feature|Yearly Amount Spent|\n",
      "+--------------------+-------------------+\n",
      "|[34.49726773,12.6...|         587.951054|\n",
      "|[31.92627203,11.1...|        392.2049334|\n",
      "|[33.00091476,11.3...|        487.5475049|\n",
      "|[34.30555663,13.7...|         581.852344|\n",
      "|[33.33067252,12.7...|         599.406092|\n",
      "|[33.87103788,12.0...|        637.1024479|\n",
      "|[32.0215955,11.36...|        521.5721748|\n",
      "|[32.73914294,12.3...|        549.9041461|\n",
      "|[33.9877729,13.38...|         570.200409|\n",
      "|[31.93654862,11.8...|        427.1993849|\n",
      "|[33.99257277,13.3...|        492.6060127|\n",
      "|[33.87936082,11.5...|        522.3374046|\n",
      "|[29.53242897,10.9...|        408.6403511|\n",
      "|[33.19033404,12.9...|        573.4158673|\n",
      "|[32.38797585,13.1...|        470.4527333|\n",
      "|[30.73772037,12.6...|        461.7807422|\n",
      "|[32.1253869,11.73...|        457.8476959|\n",
      "|[32.33889932,12.0...|        407.7045475|\n",
      "|[32.18781205,14.7...|        452.3156755|\n",
      "|[32.61785606,13.9...|        605.0610388|\n",
      "+--------------------+-------------------+\n",
      "only showing top 20 rows\n",
      "\n"
     ]
    }
   ],
   "source": [
    "finalized_features.show()"
   ]
  },
  {
   "cell_type": "code",
   "execution_count": 21,
   "metadata": {},
   "outputs": [],
   "source": [
    "train_data,test_date = finalized_features.randomSplit([0.75,0.25])"
   ]
  },
  {
   "cell_type": "code",
   "execution_count": 22,
   "metadata": {},
   "outputs": [],
   "source": [
    "regress = LinearRegression(featuresCol='Independent Feature',labelCol='Yearly Amount Spent')\n",
    "regress=regress.fit(train_data)"
   ]
  },
  {
   "cell_type": "code",
   "execution_count": 23,
   "metadata": {},
   "outputs": [
    {
     "data": {
      "text/plain": [
       "DenseVector([25.8269, 39.064, 0.6889, 61.5305])"
      ]
     },
     "execution_count": 23,
     "metadata": {},
     "output_type": "execute_result"
    }
   ],
   "source": [
    "regress.coefficients"
   ]
  },
  {
   "cell_type": "code",
   "execution_count": 24,
   "metadata": {},
   "outputs": [
    {
     "data": {
      "text/plain": [
       "-1068.7812231228709"
      ]
     },
     "execution_count": 24,
     "metadata": {},
     "output_type": "execute_result"
    }
   ],
   "source": [
    "regress.intercept"
   ]
  },
  {
   "cell_type": "code",
   "execution_count": 25,
   "metadata": {},
   "outputs": [],
   "source": [
    "Pred_result = regress.evaluate(test_date)"
   ]
  },
  {
   "cell_type": "code",
   "execution_count": 26,
   "metadata": {},
   "outputs": [
    {
     "name": "stdout",
     "output_type": "stream",
     "text": [
      "+--------------------+-------------------+------------------+\n",
      "| Independent Feature|Yearly Amount Spent|        prediction|\n",
      "+--------------------+-------------------+------------------+\n",
      "|[30.57436368,11.3...|        442.0644138| 440.7708355908012|\n",
      "|[31.04722214,11.1...|        392.4973992|387.28460779354737|\n",
      "|[31.12397435,12.3...|        486.9470538| 507.3438687430721|\n",
      "|[31.12809005,13.2...|        557.2526867| 564.2935682120171|\n",
      "|[31.30919264,11.9...|        432.7207178| 428.7151492036037|\n",
      "|[31.36621217,11.1...|        430.5888826|425.70369059402196|\n",
      "|[31.5261979,12.04...|        409.0945262| 417.7321918063433|\n",
      "|[31.73663569,10.7...|        496.9334463| 492.9140779936288|\n",
      "|[31.81248256,10.8...|         392.810345|394.67387685254175|\n",
      "|[31.8209982,10.77...|         424.675281| 416.0297169897606|\n",
      "|[31.90962683,11.3...|        563.4460357| 550.6360487488989|\n",
      "|[31.92627203,11.1...|        392.2049334|379.35223490361886|\n",
      "|[31.95490386,10.9...|        439.9978799|430.69145096816715|\n",
      "|[32.03054972,12.6...|        594.2744834|  588.581304433693|\n",
      "|[32.04448613,13.4...|        448.2298292|446.72834059048273|\n",
      "|[32.1253869,11.73...|        457.8476959|436.29864530485884|\n",
      "|[32.27184828,13.4...|          511.97986|507.25455531111015|\n",
      "|[32.27459383,12.9...|        533.0400602| 523.4477947627406|\n",
      "|[32.28312306,10.9...|        524.6379646| 510.4393305719839|\n",
      "|[32.31290975,9.82...|        356.6155679|353.91968129784595|\n",
      "+--------------------+-------------------+------------------+\n",
      "only showing top 20 rows\n",
      "\n"
     ]
    }
   ],
   "source": [
    "Pred_result.predictions.show()"
   ]
  },
  {
   "cell_type": "code",
   "execution_count": null,
   "metadata": {},
   "outputs": [],
   "source": []
  }
 ],
 "metadata": {
  "kernelspec": {
   "display_name": "Python 3",
   "language": "python",
   "name": "python3"
  },
  "language_info": {
   "codemirror_mode": {
    "name": "ipython",
    "version": 3
   },
   "file_extension": ".py",
   "mimetype": "text/x-python",
   "name": "python",
   "nbconvert_exporter": "python",
   "pygments_lexer": "ipython3",
   "version": "3.7.6"
  }
 },
 "nbformat": 4,
 "nbformat_minor": 4
}
