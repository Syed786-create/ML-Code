{
 "cells": [
  {
   "cell_type": "code",
   "execution_count": 1,
   "id": "fed7ffb4",
   "metadata": {},
   "outputs": [],
   "source": [
    "import numpy as np\n",
    "import pandas as pd\n",
    "import matplotlib.pyplot as plt\n",
    "import seaborn as sns\n",
    "%matplotlib inline"
   ]
  },
  {
   "cell_type": "code",
   "execution_count": 362,
   "id": "aeaf45ec",
   "metadata": {},
   "outputs": [],
   "source": [
    "data = pd.read_csv('C:/Users/DELL/Downloads/Feature Engineering/mercedes/train.csv/data.csv')"
   ]
  },
  {
   "cell_type": "code",
   "execution_count": 390,
   "id": "6ef32db0",
   "metadata": {},
   "outputs": [],
   "source": [
    "data.drop(data.iloc[0:,0:6],axis=1,inplace=True)"
   ]
  },
  {
   "cell_type": "code",
   "execution_count": 326,
   "id": "9ab272ce",
   "metadata": {},
   "outputs": [],
   "source": [
    "data.drop(data.iloc[0:,6:],axis=1,inplace=True)"
   ]
  },
  {
   "cell_type": "code",
   "execution_count": 391,
   "id": "c7f0b6d1",
   "metadata": {},
   "outputs": [
    {
     "data": {
      "text/plain": [
       "(4209, 51)"
      ]
     },
     "execution_count": 391,
     "metadata": {},
     "output_type": "execute_result"
    }
   ],
   "source": [
    "data.shape"
   ]
  },
  {
   "cell_type": "code",
   "execution_count": 392,
   "id": "a5fa7e26",
   "metadata": {},
   "outputs": [
    {
     "data": {
      "text/html": [
       "<div>\n",
       "<style scoped>\n",
       "    .dataframe tbody tr th:only-of-type {\n",
       "        vertical-align: middle;\n",
       "    }\n",
       "\n",
       "    .dataframe tbody tr th {\n",
       "        vertical-align: top;\n",
       "    }\n",
       "\n",
       "    .dataframe thead th {\n",
       "        text-align: right;\n",
       "    }\n",
       "</style>\n",
       "<table border=\"1\" class=\"dataframe\">\n",
       "  <thead>\n",
       "    <tr style=\"text-align: right;\">\n",
       "      <th></th>\n",
       "      <th>X1-as</th>\n",
       "      <th>X1-ae</th>\n",
       "      <th>X1-ai</th>\n",
       "      <th>X1-m</th>\n",
       "      <th>X1-ak</th>\n",
       "      <th>X1-r</th>\n",
       "      <th>X1-n</th>\n",
       "      <th>X1-s</th>\n",
       "      <th>X1-f</th>\n",
       "      <th>X1-e</th>\n",
       "      <th>...</th>\n",
       "      <th>X6-g</th>\n",
       "      <th>X6-j</th>\n",
       "      <th>X6-d</th>\n",
       "      <th>X6-i</th>\n",
       "      <th>X6-l</th>\n",
       "      <th>X6-h</th>\n",
       "      <th>X6-a</th>\n",
       "      <th>X6-k</th>\n",
       "      <th>X6-c</th>\n",
       "      <th>X6-f</th>\n",
       "    </tr>\n",
       "  </thead>\n",
       "  <tbody>\n",
       "    <tr>\n",
       "      <th>0</th>\n",
       "      <td>0</td>\n",
       "      <td>0</td>\n",
       "      <td>0</td>\n",
       "      <td>0</td>\n",
       "      <td>0</td>\n",
       "      <td>0</td>\n",
       "      <td>0</td>\n",
       "      <td>0</td>\n",
       "      <td>0</td>\n",
       "      <td>0</td>\n",
       "      <td>...</td>\n",
       "      <td>0</td>\n",
       "      <td>0</td>\n",
       "      <td>0</td>\n",
       "      <td>0</td>\n",
       "      <td>0</td>\n",
       "      <td>0</td>\n",
       "      <td>1</td>\n",
       "      <td>0</td>\n",
       "      <td>0</td>\n",
       "      <td>0</td>\n",
       "    </tr>\n",
       "    <tr>\n",
       "      <th>1</th>\n",
       "      <td>0</td>\n",
       "      <td>0</td>\n",
       "      <td>0</td>\n",
       "      <td>0</td>\n",
       "      <td>0</td>\n",
       "      <td>0</td>\n",
       "      <td>0</td>\n",
       "      <td>0</td>\n",
       "      <td>0</td>\n",
       "      <td>0</td>\n",
       "      <td>...</td>\n",
       "      <td>1</td>\n",
       "      <td>0</td>\n",
       "      <td>0</td>\n",
       "      <td>0</td>\n",
       "      <td>0</td>\n",
       "      <td>0</td>\n",
       "      <td>0</td>\n",
       "      <td>0</td>\n",
       "      <td>0</td>\n",
       "      <td>0</td>\n",
       "    </tr>\n",
       "  </tbody>\n",
       "</table>\n",
       "<p>2 rows × 51 columns</p>\n",
       "</div>"
      ],
      "text/plain": [
       "   X1-as  X1-ae  X1-ai  X1-m  X1-ak  X1-r  X1-n  X1-s  X1-f  X1-e  ...  X6-g  \\\n",
       "0      0      0      0     0      0     0     0     0     0     0  ...     0   \n",
       "1      0      0      0     0      0     0     0     0     0     0  ...     1   \n",
       "\n",
       "   X6-j  X6-d  X6-i  X6-l  X6-h  X6-a  X6-k  X6-c  X6-f  \n",
       "0     0     0     0     0     0     1     0     0     0  \n",
       "1     0     0     0     0     0     0     0     0     0  \n",
       "\n",
       "[2 rows x 51 columns]"
      ]
     },
     "execution_count": 392,
     "metadata": {},
     "output_type": "execute_result"
    }
   ],
   "source": [
    "data.head(2)"
   ]
  },
  {
   "cell_type": "code",
   "execution_count": 393,
   "id": "d755aba7",
   "metadata": {},
   "outputs": [
    {
     "name": "stdout",
     "output_type": "stream",
     "text": [
      "X1-as :  1 Labels\n",
      "X1-ae :  1 Labels\n",
      "X1-ai :  1 Labels\n",
      "X1-m :  2 Labels\n",
      "X1-ak :  1 Labels\n",
      "X1-r :  2 Labels\n",
      "X1-n :  2 Labels\n",
      "X1-s :  2 Labels\n",
      "X1-f :  2 Labels\n",
      "X1-e :  2 Labels\n",
      "X2-as :  2 Labels\n",
      "X2-ae :  2 Labels\n",
      "X2-ai :  2 Labels\n",
      "X2-m :  2 Labels\n",
      "X2-ak :  2 Labels\n",
      "X2-r :  2 Labels\n",
      "X2-n :  2 Labels\n",
      "X2-s :  2 Labels\n",
      "X2-f :  2 Labels\n",
      "X2-e :  2 Labels\n",
      "X3-c :  2 Labels\n",
      "X3-f :  2 Labels\n",
      "X3-a :  2 Labels\n",
      "X3-d :  2 Labels\n",
      "X3-g :  2 Labels\n",
      "X3-e :  2 Labels\n",
      "X3-b :  2 Labels\n",
      "X4-d :  2 Labels\n",
      "X4-b :  2 Labels\n",
      "X4-c :  2 Labels\n",
      "X4-a :  2 Labels\n",
      "X5-v :  2 Labels\n",
      "X5-r :  2 Labels\n",
      "X5-p :  2 Labels\n",
      "X5-w :  2 Labels\n",
      "X5-af :  2 Labels\n",
      "X5-ad :  2 Labels\n",
      "X5-ac :  2 Labels\n",
      "X5-n :  2 Labels\n",
      "X5-l :  2 Labels\n",
      "X5-s :  2 Labels\n",
      "X6-g :  2 Labels\n",
      "X6-j :  2 Labels\n",
      "X6-d :  2 Labels\n",
      "X6-i :  2 Labels\n",
      "X6-l :  2 Labels\n",
      "X6-h :  2 Labels\n",
      "X6-a :  2 Labels\n",
      "X6-k :  2 Labels\n",
      "X6-c :  2 Labels\n",
      "X6-f :  2 Labels\n"
     ]
    }
   ],
   "source": [
    "for col in data.columns:\n",
    "    print(col, ': ', len(data[col].unique()), 'Labels')"
   ]
  },
  {
   "cell_type": "code",
   "execution_count": 367,
   "id": "139d6ff8",
   "metadata": {},
   "outputs": [
    {
     "data": {
      "text/plain": [
       "(4209, 121)"
      ]
     },
     "execution_count": 367,
     "metadata": {},
     "output_type": "execute_result"
    }
   ],
   "source": [
    "pd.get_dummies(data,drop_first=True).shape"
   ]
  },
  {
   "cell_type": "code",
   "execution_count": 385,
   "id": "58dc73e7",
   "metadata": {},
   "outputs": [
    {
     "data": {
      "text/plain": [
       "d    4203\n",
       "b       4\n",
       "c       1\n",
       "a       1\n",
       "Name: X4, dtype: int64"
      ]
     },
     "execution_count": 385,
     "metadata": {},
     "output_type": "execute_result"
    }
   ],
   "source": [
    "data.X4.value_counts().sort_values(ascending=False).head(20)"
   ]
  },
  {
   "cell_type": "code",
   "execution_count": 369,
   "id": "e5c59edb",
   "metadata": {},
   "outputs": [],
   "source": [
    "top_10 = [x for x in data.X1.value_counts().sort_values(ascending=False).head(10).index]"
   ]
  },
  {
   "cell_type": "code",
   "execution_count": 370,
   "id": "2917681d",
   "metadata": {},
   "outputs": [
    {
     "data": {
      "text/html": [
       "<div>\n",
       "<style scoped>\n",
       "    .dataframe tbody tr th:only-of-type {\n",
       "        vertical-align: middle;\n",
       "    }\n",
       "\n",
       "    .dataframe tbody tr th {\n",
       "        vertical-align: top;\n",
       "    }\n",
       "\n",
       "    .dataframe thead th {\n",
       "        text-align: right;\n",
       "    }\n",
       "</style>\n",
       "<table border=\"1\" class=\"dataframe\">\n",
       "  <thead>\n",
       "    <tr style=\"text-align: right;\">\n",
       "      <th></th>\n",
       "      <th>X1</th>\n",
       "      <th>X2</th>\n",
       "      <th>X3</th>\n",
       "      <th>X4</th>\n",
       "      <th>X5</th>\n",
       "      <th>X6</th>\n",
       "      <th>X1-as</th>\n",
       "      <th>X1-ae</th>\n",
       "      <th>X1-ai</th>\n",
       "      <th>X1-m</th>\n",
       "      <th>X1-ak</th>\n",
       "      <th>X1-r</th>\n",
       "      <th>X1-n</th>\n",
       "      <th>X1-s</th>\n",
       "      <th>X1-f</th>\n",
       "      <th>X1-e</th>\n",
       "    </tr>\n",
       "  </thead>\n",
       "  <tbody>\n",
       "    <tr>\n",
       "      <th>0</th>\n",
       "      <td>v</td>\n",
       "      <td>n</td>\n",
       "      <td>f</td>\n",
       "      <td>d</td>\n",
       "      <td>t</td>\n",
       "      <td>a</td>\n",
       "      <td>0</td>\n",
       "      <td>0</td>\n",
       "      <td>0</td>\n",
       "      <td>0</td>\n",
       "      <td>0</td>\n",
       "      <td>0</td>\n",
       "      <td>0</td>\n",
       "      <td>0</td>\n",
       "      <td>0</td>\n",
       "      <td>0</td>\n",
       "    </tr>\n",
       "    <tr>\n",
       "      <th>1</th>\n",
       "      <td>b</td>\n",
       "      <td>ai</td>\n",
       "      <td>a</td>\n",
       "      <td>d</td>\n",
       "      <td>b</td>\n",
       "      <td>g</td>\n",
       "      <td>0</td>\n",
       "      <td>0</td>\n",
       "      <td>0</td>\n",
       "      <td>0</td>\n",
       "      <td>0</td>\n",
       "      <td>0</td>\n",
       "      <td>0</td>\n",
       "      <td>0</td>\n",
       "      <td>0</td>\n",
       "      <td>0</td>\n",
       "    </tr>\n",
       "  </tbody>\n",
       "</table>\n",
       "</div>"
      ],
      "text/plain": [
       "  X1  X2 X3 X4 X5 X6  X1-as  X1-ae  X1-ai  X1-m  X1-ak  X1-r  X1-n  X1-s  \\\n",
       "0  v   n  f  d  t  a      0      0      0     0      0     0     0     0   \n",
       "1  b  ai  a  d  b  g      0      0      0     0      0     0     0     0   \n",
       "\n",
       "   X1-f  X1-e  \n",
       "0     0     0  \n",
       "1     0     0  "
      ]
     },
     "execution_count": 370,
     "metadata": {},
     "output_type": "execute_result"
    }
   ],
   "source": [
    "def one_hot_top_x(df , variable, top_x_labels):\n",
    "    for label in top_x_labels:\n",
    "        data[variable+'-'+label]=np.where(data[variable]==label, 1 , 0)\n",
    "\n",
    "data = pd.read_csv('C:/Users/DELL/Downloads/Feature Engineering/mercedes/train.csv/data.csv', usecols=['X1','X2','X3','X4','X5','X6'])\n"
   ]
  },
  {
   "cell_type": "code",
   "execution_count": 394,
   "id": "115f164e",
   "metadata": {},
   "outputs": [
    {
     "data": {
      "text/plain": [
       "(4209, 51)"
      ]
     },
     "execution_count": 394,
     "metadata": {},
     "output_type": "execute_result"
    }
   ],
   "source": [
    "data.shape"
   ]
  },
  {
   "cell_type": "code",
   "execution_count": 383,
   "id": "d34ebbe7",
   "metadata": {},
   "outputs": [],
   "source": [
    "top_10 = [x for x in data.X4.value_counts().sort_values(ascending=False).head(10).index]"
   ]
  },
  {
   "cell_type": "code",
   "execution_count": 384,
   "id": "f96f8b6b",
   "metadata": {},
   "outputs": [
    {
     "data": {
      "text/plain": [
       "['d', 'b', 'c', 'a']"
      ]
     },
     "execution_count": 384,
     "metadata": {},
     "output_type": "execute_result"
    }
   ],
   "source": [
    "top_10"
   ]
  },
  {
   "cell_type": "code",
   "execution_count": 380,
   "id": "bc6067ca",
   "metadata": {},
   "outputs": [
    {
     "data": {
      "text/html": [
       "<div>\n",
       "<style scoped>\n",
       "    .dataframe tbody tr th:only-of-type {\n",
       "        vertical-align: middle;\n",
       "    }\n",
       "\n",
       "    .dataframe tbody tr th {\n",
       "        vertical-align: top;\n",
       "    }\n",
       "\n",
       "    .dataframe thead th {\n",
       "        text-align: right;\n",
       "    }\n",
       "</style>\n",
       "<table border=\"1\" class=\"dataframe\">\n",
       "  <thead>\n",
       "    <tr style=\"text-align: right;\">\n",
       "      <th></th>\n",
       "      <th>X1</th>\n",
       "      <th>X2</th>\n",
       "      <th>X3</th>\n",
       "      <th>X4</th>\n",
       "      <th>X5</th>\n",
       "      <th>X6</th>\n",
       "      <th>X1-as</th>\n",
       "      <th>X1-ae</th>\n",
       "      <th>X1-ai</th>\n",
       "      <th>X1-m</th>\n",
       "      <th>...</th>\n",
       "      <th>X6-g</th>\n",
       "      <th>X6-j</th>\n",
       "      <th>X6-d</th>\n",
       "      <th>X6-i</th>\n",
       "      <th>X6-l</th>\n",
       "      <th>X6-h</th>\n",
       "      <th>X6-a</th>\n",
       "      <th>X6-k</th>\n",
       "      <th>X6-c</th>\n",
       "      <th>X6-f</th>\n",
       "    </tr>\n",
       "  </thead>\n",
       "  <tbody>\n",
       "    <tr>\n",
       "      <th>0</th>\n",
       "      <td>v</td>\n",
       "      <td>n</td>\n",
       "      <td>f</td>\n",
       "      <td>d</td>\n",
       "      <td>t</td>\n",
       "      <td>a</td>\n",
       "      <td>0</td>\n",
       "      <td>0</td>\n",
       "      <td>0</td>\n",
       "      <td>0</td>\n",
       "      <td>...</td>\n",
       "      <td>0</td>\n",
       "      <td>0</td>\n",
       "      <td>0</td>\n",
       "      <td>0</td>\n",
       "      <td>0</td>\n",
       "      <td>0</td>\n",
       "      <td>1</td>\n",
       "      <td>0</td>\n",
       "      <td>0</td>\n",
       "      <td>0</td>\n",
       "    </tr>\n",
       "    <tr>\n",
       "      <th>1</th>\n",
       "      <td>b</td>\n",
       "      <td>ai</td>\n",
       "      <td>a</td>\n",
       "      <td>d</td>\n",
       "      <td>b</td>\n",
       "      <td>g</td>\n",
       "      <td>0</td>\n",
       "      <td>0</td>\n",
       "      <td>0</td>\n",
       "      <td>0</td>\n",
       "      <td>...</td>\n",
       "      <td>1</td>\n",
       "      <td>0</td>\n",
       "      <td>0</td>\n",
       "      <td>0</td>\n",
       "      <td>0</td>\n",
       "      <td>0</td>\n",
       "      <td>0</td>\n",
       "      <td>0</td>\n",
       "      <td>0</td>\n",
       "      <td>0</td>\n",
       "    </tr>\n",
       "  </tbody>\n",
       "</table>\n",
       "<p>2 rows × 57 columns</p>\n",
       "</div>"
      ],
      "text/plain": [
       "  X1  X2 X3 X4 X5 X6  X1-as  X1-ae  X1-ai  X1-m  ...  X6-g  X6-j  X6-d  X6-i  \\\n",
       "0  v   n  f  d  t  a      0      0      0     0  ...     0     0     0     0   \n",
       "1  b  ai  a  d  b  g      0      0      0     0  ...     1     0     0     0   \n",
       "\n",
       "   X6-l  X6-h  X6-a  X6-k  X6-c  X6-f  \n",
       "0     0     0     1     0     0     0  \n",
       "1     0     0     0     0     0     0  \n",
       "\n",
       "[2 rows x 57 columns]"
      ]
     },
     "execution_count": 380,
     "metadata": {},
     "output_type": "execute_result"
    }
   ],
   "source": [
    "one_hot_top_x(data, 'X6', top_10)\n",
    "data.head(2)"
   ]
  },
  {
   "cell_type": "code",
   "execution_count": 381,
   "id": "af5f56e5",
   "metadata": {},
   "outputs": [
    {
     "data": {
      "text/plain": [
       "(4209, 57)"
      ]
     },
     "execution_count": 381,
     "metadata": {},
     "output_type": "execute_result"
    }
   ],
   "source": [
    "data.shape"
   ]
  },
  {
   "cell_type": "code",
   "execution_count": 382,
   "id": "bc583ff1",
   "metadata": {},
   "outputs": [
    {
     "data": {
      "text/plain": [
       "Index(['X1', 'X2', 'X3', 'X4', 'X5', 'X6', 'X1-as', 'X1-ae', 'X1-ai', 'X1-m',\n",
       "       'X1-ak', 'X1-r', 'X1-n', 'X1-s', 'X1-f', 'X1-e', 'X2-as', 'X2-ae',\n",
       "       'X2-ai', 'X2-m', 'X2-ak', 'X2-r', 'X2-n', 'X2-s', 'X2-f', 'X2-e',\n",
       "       'X3-c', 'X3-f', 'X3-a', 'X3-d', 'X3-g', 'X3-e', 'X3-b', 'X4-d', 'X4-b',\n",
       "       'X4-c', 'X4-a', 'X5-v', 'X5-r', 'X5-p', 'X5-w', 'X5-af', 'X5-ad',\n",
       "       'X5-ac', 'X5-n', 'X5-l', 'X5-s', 'X6-g', 'X6-j', 'X6-d', 'X6-i', 'X6-l',\n",
       "       'X6-h', 'X6-a', 'X6-k', 'X6-c', 'X6-f'],\n",
       "      dtype='object')"
      ]
     },
     "execution_count": 382,
     "metadata": {},
     "output_type": "execute_result"
    }
   ],
   "source": [
    "data.columns"
   ]
  },
  {
   "cell_type": "code",
   "execution_count": 330,
   "id": "6f9565b4",
   "metadata": {},
   "outputs": [],
   "source": [
    "data_1.to_csv('C:/Users/DELL/Downloads/Feature Engineering/mercedes/train.csv/data.csv')"
   ]
  },
  {
   "cell_type": "code",
   "execution_count": 331,
   "id": "d523afb4",
   "metadata": {},
   "outputs": [
    {
     "data": {
      "text/html": [
       "<div>\n",
       "<style scoped>\n",
       "    .dataframe tbody tr th:only-of-type {\n",
       "        vertical-align: middle;\n",
       "    }\n",
       "\n",
       "    .dataframe tbody tr th {\n",
       "        vertical-align: top;\n",
       "    }\n",
       "\n",
       "    .dataframe thead th {\n",
       "        text-align: right;\n",
       "    }\n",
       "</style>\n",
       "<table border=\"1\" class=\"dataframe\">\n",
       "  <thead>\n",
       "    <tr style=\"text-align: right;\">\n",
       "      <th></th>\n",
       "      <th>X1</th>\n",
       "      <th>X2</th>\n",
       "      <th>X3</th>\n",
       "      <th>X4</th>\n",
       "      <th>X5</th>\n",
       "      <th>X6</th>\n",
       "    </tr>\n",
       "  </thead>\n",
       "  <tbody>\n",
       "    <tr>\n",
       "      <th>0</th>\n",
       "      <td>v</td>\n",
       "      <td>n</td>\n",
       "      <td>f</td>\n",
       "      <td>d</td>\n",
       "      <td>t</td>\n",
       "      <td>a</td>\n",
       "    </tr>\n",
       "    <tr>\n",
       "      <th>1</th>\n",
       "      <td>b</td>\n",
       "      <td>ai</td>\n",
       "      <td>a</td>\n",
       "      <td>d</td>\n",
       "      <td>b</td>\n",
       "      <td>g</td>\n",
       "    </tr>\n",
       "    <tr>\n",
       "      <th>2</th>\n",
       "      <td>v</td>\n",
       "      <td>as</td>\n",
       "      <td>f</td>\n",
       "      <td>d</td>\n",
       "      <td>a</td>\n",
       "      <td>j</td>\n",
       "    </tr>\n",
       "    <tr>\n",
       "      <th>3</th>\n",
       "      <td>l</td>\n",
       "      <td>n</td>\n",
       "      <td>f</td>\n",
       "      <td>d</td>\n",
       "      <td>z</td>\n",
       "      <td>l</td>\n",
       "    </tr>\n",
       "    <tr>\n",
       "      <th>4</th>\n",
       "      <td>s</td>\n",
       "      <td>as</td>\n",
       "      <td>c</td>\n",
       "      <td>d</td>\n",
       "      <td>y</td>\n",
       "      <td>i</td>\n",
       "    </tr>\n",
       "    <tr>\n",
       "      <th>...</th>\n",
       "      <td>...</td>\n",
       "      <td>...</td>\n",
       "      <td>...</td>\n",
       "      <td>...</td>\n",
       "      <td>...</td>\n",
       "      <td>...</td>\n",
       "    </tr>\n",
       "    <tr>\n",
       "      <th>4204</th>\n",
       "      <td>h</td>\n",
       "      <td>as</td>\n",
       "      <td>f</td>\n",
       "      <td>d</td>\n",
       "      <td>aa</td>\n",
       "      <td>j</td>\n",
       "    </tr>\n",
       "    <tr>\n",
       "      <th>4205</th>\n",
       "      <td>aa</td>\n",
       "      <td>ai</td>\n",
       "      <td>d</td>\n",
       "      <td>d</td>\n",
       "      <td>aa</td>\n",
       "      <td>j</td>\n",
       "    </tr>\n",
       "    <tr>\n",
       "      <th>4206</th>\n",
       "      <td>v</td>\n",
       "      <td>as</td>\n",
       "      <td>f</td>\n",
       "      <td>d</td>\n",
       "      <td>aa</td>\n",
       "      <td>d</td>\n",
       "    </tr>\n",
       "    <tr>\n",
       "      <th>4207</th>\n",
       "      <td>v</td>\n",
       "      <td>as</td>\n",
       "      <td>a</td>\n",
       "      <td>d</td>\n",
       "      <td>aa</td>\n",
       "      <td>c</td>\n",
       "    </tr>\n",
       "    <tr>\n",
       "      <th>4208</th>\n",
       "      <td>aa</td>\n",
       "      <td>ai</td>\n",
       "      <td>c</td>\n",
       "      <td>d</td>\n",
       "      <td>aa</td>\n",
       "      <td>g</td>\n",
       "    </tr>\n",
       "  </tbody>\n",
       "</table>\n",
       "<p>4209 rows × 6 columns</p>\n",
       "</div>"
      ],
      "text/plain": [
       "      X1  X2 X3 X4  X5 X6\n",
       "0      v   n  f  d   t  a\n",
       "1      b  ai  a  d   b  g\n",
       "2      v  as  f  d   a  j\n",
       "3      l   n  f  d   z  l\n",
       "4      s  as  c  d   y  i\n",
       "...   ..  .. .. ..  .. ..\n",
       "4204   h  as  f  d  aa  j\n",
       "4205  aa  ai  d  d  aa  j\n",
       "4206   v  as  f  d  aa  d\n",
       "4207   v  as  a  d  aa  c\n",
       "4208  aa  ai  c  d  aa  g\n",
       "\n",
       "[4209 rows x 6 columns]"
      ]
     },
     "execution_count": 331,
     "metadata": {},
     "output_type": "execute_result"
    }
   ],
   "source": [
    "data_1"
   ]
  },
  {
   "cell_type": "code",
   "execution_count": null,
   "id": "0cc02a3d",
   "metadata": {},
   "outputs": [],
   "source": []
  }
 ],
 "metadata": {
  "kernelspec": {
   "display_name": "Python 3",
   "language": "python",
   "name": "python3"
  },
  "language_info": {
   "codemirror_mode": {
    "name": "ipython",
    "version": 3
   },
   "file_extension": ".py",
   "mimetype": "text/x-python",
   "name": "python",
   "nbconvert_exporter": "python",
   "pygments_lexer": "ipython3",
   "version": "3.8.8"
  }
 },
 "nbformat": 4,
 "nbformat_minor": 5
}
