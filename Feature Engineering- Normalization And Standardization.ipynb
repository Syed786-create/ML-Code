{
 "cells": [
  {
   "cell_type": "code",
   "execution_count": 1,
   "id": "8cc73bb6",
   "metadata": {},
   "outputs": [],
   "source": [
    "import pandas as pd\n",
    "import numpy as np\n",
    "import matplotlib.pyplot as plt\n",
    "%matplotlib inline"
   ]
  },
  {
   "cell_type": "code",
   "execution_count": 9,
   "id": "7b1977ed",
   "metadata": {},
   "outputs": [
    {
     "data": {
      "text/plain": [
       "(891, 4)"
      ]
     },
     "execution_count": 9,
     "metadata": {},
     "output_type": "execute_result"
    }
   ],
   "source": [
    "df = pd.read_csv('C:/Users/DELL/Downloads/Feature Engineering/Feature/Engineering/titanic.csv',usecols=['Pclass','Age','Fare','Survived'])\n",
    "df.shape"
   ]
  },
  {
   "cell_type": "code",
   "execution_count": 10,
   "id": "7af1e155",
   "metadata": {},
   "outputs": [
    {
     "data": {
      "text/plain": [
       "Index(['Survived', 'Pclass', 'Age', 'Fare'], dtype='object')"
      ]
     },
     "execution_count": 10,
     "metadata": {},
     "output_type": "execute_result"
    }
   ],
   "source": [
    "df.columns"
   ]
  },
  {
   "cell_type": "code",
   "execution_count": 11,
   "id": "1a71f570",
   "metadata": {},
   "outputs": [
    {
     "data": {
      "text/html": [
       "<div>\n",
       "<style scoped>\n",
       "    .dataframe tbody tr th:only-of-type {\n",
       "        vertical-align: middle;\n",
       "    }\n",
       "\n",
       "    .dataframe tbody tr th {\n",
       "        vertical-align: top;\n",
       "    }\n",
       "\n",
       "    .dataframe thead th {\n",
       "        text-align: right;\n",
       "    }\n",
       "</style>\n",
       "<table border=\"1\" class=\"dataframe\">\n",
       "  <thead>\n",
       "    <tr style=\"text-align: right;\">\n",
       "      <th></th>\n",
       "      <th>Survived</th>\n",
       "      <th>Pclass</th>\n",
       "      <th>Age</th>\n",
       "      <th>Fare</th>\n",
       "    </tr>\n",
       "  </thead>\n",
       "  <tbody>\n",
       "    <tr>\n",
       "      <th>count</th>\n",
       "      <td>891.000000</td>\n",
       "      <td>891.000000</td>\n",
       "      <td>714.000000</td>\n",
       "      <td>891.000000</td>\n",
       "    </tr>\n",
       "    <tr>\n",
       "      <th>mean</th>\n",
       "      <td>0.383838</td>\n",
       "      <td>2.308642</td>\n",
       "      <td>29.699118</td>\n",
       "      <td>32.204208</td>\n",
       "    </tr>\n",
       "    <tr>\n",
       "      <th>std</th>\n",
       "      <td>0.486592</td>\n",
       "      <td>0.836071</td>\n",
       "      <td>14.526497</td>\n",
       "      <td>49.693429</td>\n",
       "    </tr>\n",
       "    <tr>\n",
       "      <th>min</th>\n",
       "      <td>0.000000</td>\n",
       "      <td>1.000000</td>\n",
       "      <td>0.420000</td>\n",
       "      <td>0.000000</td>\n",
       "    </tr>\n",
       "    <tr>\n",
       "      <th>25%</th>\n",
       "      <td>0.000000</td>\n",
       "      <td>2.000000</td>\n",
       "      <td>20.125000</td>\n",
       "      <td>7.910400</td>\n",
       "    </tr>\n",
       "    <tr>\n",
       "      <th>50%</th>\n",
       "      <td>0.000000</td>\n",
       "      <td>3.000000</td>\n",
       "      <td>28.000000</td>\n",
       "      <td>14.454200</td>\n",
       "    </tr>\n",
       "    <tr>\n",
       "      <th>75%</th>\n",
       "      <td>1.000000</td>\n",
       "      <td>3.000000</td>\n",
       "      <td>38.000000</td>\n",
       "      <td>31.000000</td>\n",
       "    </tr>\n",
       "    <tr>\n",
       "      <th>max</th>\n",
       "      <td>1.000000</td>\n",
       "      <td>3.000000</td>\n",
       "      <td>80.000000</td>\n",
       "      <td>512.329200</td>\n",
       "    </tr>\n",
       "  </tbody>\n",
       "</table>\n",
       "</div>"
      ],
      "text/plain": [
       "         Survived      Pclass         Age        Fare\n",
       "count  891.000000  891.000000  714.000000  891.000000\n",
       "mean     0.383838    2.308642   29.699118   32.204208\n",
       "std      0.486592    0.836071   14.526497   49.693429\n",
       "min      0.000000    1.000000    0.420000    0.000000\n",
       "25%      0.000000    2.000000   20.125000    7.910400\n",
       "50%      0.000000    3.000000   28.000000   14.454200\n",
       "75%      1.000000    3.000000   38.000000   31.000000\n",
       "max      1.000000    3.000000   80.000000  512.329200"
      ]
     },
     "execution_count": 11,
     "metadata": {},
     "output_type": "execute_result"
    }
   ],
   "source": [
    "df.describe()"
   ]
  },
  {
   "cell_type": "code",
   "execution_count": 12,
   "id": "595ddddf",
   "metadata": {},
   "outputs": [],
   "source": [
    "df['Age'].fillna(df.Age.median(),inplace=True)"
   ]
  },
  {
   "cell_type": "code",
   "execution_count": 13,
   "id": "cc473a24",
   "metadata": {},
   "outputs": [
    {
     "data": {
      "text/plain": [
       "Survived    0\n",
       "Pclass      0\n",
       "Age         0\n",
       "Fare        0\n",
       "dtype: int64"
      ]
     },
     "execution_count": 13,
     "metadata": {},
     "output_type": "execute_result"
    }
   ],
   "source": [
    "df.isnull().sum()"
   ]
  },
  {
   "cell_type": "code",
   "execution_count": 15,
   "id": "3ce0d1f7",
   "metadata": {},
   "outputs": [
    {
     "name": "stdout",
     "output_type": "stream",
     "text": [
      "Collecting sklearn\n",
      "  Using cached sklearn-0.0-py2.py3-none-any.whl\n",
      "Collecting scikit-learn\n",
      "  Downloading scikit_learn-1.0-cp37-cp37m-win_amd64.whl (7.1 MB)\n",
      "Collecting joblib>=0.11\n",
      "  Using cached joblib-1.0.1-py3-none-any.whl (303 kB)\n",
      "Requirement already satisfied: scipy>=1.1.0 in c:\\users\\dell\\anaconda3\\envs\\nayeem_101\\lib\\site-packages (from scikit-learn->sklearn) (1.7.1)Note: you may need to restart the kernel to use updated packages.\n",
      "\n",
      "Requirement already satisfied: numpy>=1.14.6 in c:\\users\\dell\\anaconda3\\envs\\nayeem_101\\lib\\site-packages (from scikit-learn->sklearn) (1.21.2)\n",
      "Collecting threadpoolctl>=2.0.0\n",
      "  Downloading threadpoolctl-2.2.0-py3-none-any.whl (12 kB)\n",
      "Installing collected packages: threadpoolctl, joblib, scikit-learn, sklearn\n",
      "Successfully installed joblib-1.0.1 scikit-learn-1.0 sklearn-0.0 threadpoolctl-2.2.0\n"
     ]
    }
   ],
   "source": [
    "pip install sklearn"
   ]
  },
  {
   "cell_type": "code",
   "execution_count": 16,
   "id": "30ace835",
   "metadata": {},
   "outputs": [],
   "source": [
    "from sklearn.preprocessing import StandardScaler"
   ]
  },
  {
   "cell_type": "code",
   "execution_count": 17,
   "id": "2aba01ac",
   "metadata": {},
   "outputs": [],
   "source": [
    "scalre = StandardScaler()\n",
    "\n",
    "df_scaler = scalre.fit_transform(df)"
   ]
  },
  {
   "cell_type": "code",
   "execution_count": 19,
   "id": "5b55f3ba",
   "metadata": {},
   "outputs": [
    {
     "data": {
      "text/html": [
       "<div>\n",
       "<style scoped>\n",
       "    .dataframe tbody tr th:only-of-type {\n",
       "        vertical-align: middle;\n",
       "    }\n",
       "\n",
       "    .dataframe tbody tr th {\n",
       "        vertical-align: top;\n",
       "    }\n",
       "\n",
       "    .dataframe thead th {\n",
       "        text-align: right;\n",
       "    }\n",
       "</style>\n",
       "<table border=\"1\" class=\"dataframe\">\n",
       "  <thead>\n",
       "    <tr style=\"text-align: right;\">\n",
       "      <th></th>\n",
       "      <th>0</th>\n",
       "      <th>1</th>\n",
       "      <th>2</th>\n",
       "      <th>3</th>\n",
       "    </tr>\n",
       "  </thead>\n",
       "  <tbody>\n",
       "    <tr>\n",
       "      <th>0</th>\n",
       "      <td>-0.789272</td>\n",
       "      <td>0.827377</td>\n",
       "      <td>-0.565736</td>\n",
       "      <td>-0.502445</td>\n",
       "    </tr>\n",
       "    <tr>\n",
       "      <th>1</th>\n",
       "      <td>1.266990</td>\n",
       "      <td>-1.566107</td>\n",
       "      <td>0.663861</td>\n",
       "      <td>0.786845</td>\n",
       "    </tr>\n",
       "    <tr>\n",
       "      <th>2</th>\n",
       "      <td>1.266990</td>\n",
       "      <td>0.827377</td>\n",
       "      <td>-0.258337</td>\n",
       "      <td>-0.488854</td>\n",
       "    </tr>\n",
       "    <tr>\n",
       "      <th>3</th>\n",
       "      <td>1.266990</td>\n",
       "      <td>-1.566107</td>\n",
       "      <td>0.433312</td>\n",
       "      <td>0.420730</td>\n",
       "    </tr>\n",
       "    <tr>\n",
       "      <th>4</th>\n",
       "      <td>-0.789272</td>\n",
       "      <td>0.827377</td>\n",
       "      <td>0.433312</td>\n",
       "      <td>-0.486337</td>\n",
       "    </tr>\n",
       "    <tr>\n",
       "      <th>...</th>\n",
       "      <td>...</td>\n",
       "      <td>...</td>\n",
       "      <td>...</td>\n",
       "      <td>...</td>\n",
       "    </tr>\n",
       "    <tr>\n",
       "      <th>886</th>\n",
       "      <td>-0.789272</td>\n",
       "      <td>-0.369365</td>\n",
       "      <td>-0.181487</td>\n",
       "      <td>-0.386671</td>\n",
       "    </tr>\n",
       "    <tr>\n",
       "      <th>887</th>\n",
       "      <td>1.266990</td>\n",
       "      <td>-1.566107</td>\n",
       "      <td>-0.796286</td>\n",
       "      <td>-0.044381</td>\n",
       "    </tr>\n",
       "    <tr>\n",
       "      <th>888</th>\n",
       "      <td>-0.789272</td>\n",
       "      <td>0.827377</td>\n",
       "      <td>-0.104637</td>\n",
       "      <td>-0.176263</td>\n",
       "    </tr>\n",
       "    <tr>\n",
       "      <th>889</th>\n",
       "      <td>1.266990</td>\n",
       "      <td>-1.566107</td>\n",
       "      <td>-0.258337</td>\n",
       "      <td>-0.044381</td>\n",
       "    </tr>\n",
       "    <tr>\n",
       "      <th>890</th>\n",
       "      <td>-0.789272</td>\n",
       "      <td>0.827377</td>\n",
       "      <td>0.202762</td>\n",
       "      <td>-0.492378</td>\n",
       "    </tr>\n",
       "  </tbody>\n",
       "</table>\n",
       "<p>891 rows × 4 columns</p>\n",
       "</div>"
      ],
      "text/plain": [
       "            0         1         2         3\n",
       "0   -0.789272  0.827377 -0.565736 -0.502445\n",
       "1    1.266990 -1.566107  0.663861  0.786845\n",
       "2    1.266990  0.827377 -0.258337 -0.488854\n",
       "3    1.266990 -1.566107  0.433312  0.420730\n",
       "4   -0.789272  0.827377  0.433312 -0.486337\n",
       "..        ...       ...       ...       ...\n",
       "886 -0.789272 -0.369365 -0.181487 -0.386671\n",
       "887  1.266990 -1.566107 -0.796286 -0.044381\n",
       "888 -0.789272  0.827377 -0.104637 -0.176263\n",
       "889  1.266990 -1.566107 -0.258337 -0.044381\n",
       "890 -0.789272  0.827377  0.202762 -0.492378\n",
       "\n",
       "[891 rows x 4 columns]"
      ]
     },
     "execution_count": 19,
     "metadata": {},
     "output_type": "execute_result"
    }
   ],
   "source": [
    "pd.DataFrame(df_scaler)"
   ]
  },
  {
   "cell_type": "code",
   "execution_count": 24,
   "id": "3aab627d",
   "metadata": {},
   "outputs": [
    {
     "data": {
      "text/plain": [
       "array([-0.78927234,  1.2669898 ,  1.2669898 ,  1.2669898 , -0.78927234,\n",
       "       -0.78927234, -0.78927234, -0.78927234,  1.2669898 ,  1.2669898 ,\n",
       "        1.2669898 ,  1.2669898 , -0.78927234, -0.78927234, -0.78927234,\n",
       "        1.2669898 , -0.78927234,  1.2669898 , -0.78927234,  1.2669898 ,\n",
       "       -0.78927234,  1.2669898 ,  1.2669898 ,  1.2669898 , -0.78927234,\n",
       "        1.2669898 , -0.78927234, -0.78927234,  1.2669898 , -0.78927234,\n",
       "       -0.78927234,  1.2669898 ,  1.2669898 , -0.78927234, -0.78927234,\n",
       "       -0.78927234,  1.2669898 , -0.78927234, -0.78927234,  1.2669898 ,\n",
       "       -0.78927234, -0.78927234, -0.78927234,  1.2669898 ,  1.2669898 ,\n",
       "       -0.78927234, -0.78927234,  1.2669898 , -0.78927234, -0.78927234,\n",
       "       -0.78927234, -0.78927234,  1.2669898 ,  1.2669898 , -0.78927234,\n",
       "        1.2669898 ,  1.2669898 , -0.78927234,  1.2669898 , -0.78927234,\n",
       "       -0.78927234,  1.2669898 , -0.78927234, -0.78927234, -0.78927234,\n",
       "        1.2669898 ,  1.2669898 , -0.78927234,  1.2669898 , -0.78927234,\n",
       "       -0.78927234, -0.78927234, -0.78927234, -0.78927234,  1.2669898 ,\n",
       "       -0.78927234, -0.78927234, -0.78927234,  1.2669898 ,  1.2669898 ,\n",
       "       -0.78927234,  1.2669898 ,  1.2669898 , -0.78927234,  1.2669898 ,\n",
       "        1.2669898 , -0.78927234, -0.78927234,  1.2669898 , -0.78927234,\n",
       "       -0.78927234, -0.78927234, -0.78927234, -0.78927234, -0.78927234,\n",
       "       -0.78927234, -0.78927234,  1.2669898 ,  1.2669898 , -0.78927234,\n",
       "       -0.78927234, -0.78927234, -0.78927234, -0.78927234, -0.78927234,\n",
       "       -0.78927234,  1.2669898 ,  1.2669898 , -0.78927234,  1.2669898 ,\n",
       "       -0.78927234, -0.78927234, -0.78927234, -0.78927234, -0.78927234,\n",
       "       -0.78927234, -0.78927234, -0.78927234, -0.78927234, -0.78927234,\n",
       "       -0.78927234, -0.78927234, -0.78927234,  1.2669898 , -0.78927234,\n",
       "        1.2669898 , -0.78927234,  1.2669898 ,  1.2669898 , -0.78927234,\n",
       "       -0.78927234, -0.78927234, -0.78927234,  1.2669898 , -0.78927234,\n",
       "       -0.78927234,  1.2669898 , -0.78927234, -0.78927234, -0.78927234,\n",
       "       -0.78927234,  1.2669898 ,  1.2669898 , -0.78927234, -0.78927234,\n",
       "       -0.78927234,  1.2669898 , -0.78927234, -0.78927234, -0.78927234,\n",
       "       -0.78927234,  1.2669898 , -0.78927234, -0.78927234, -0.78927234,\n",
       "       -0.78927234,  1.2669898 , -0.78927234, -0.78927234, -0.78927234,\n",
       "       -0.78927234,  1.2669898 , -0.78927234, -0.78927234, -0.78927234,\n",
       "        1.2669898 ,  1.2669898 , -0.78927234, -0.78927234, -0.78927234,\n",
       "       -0.78927234, -0.78927234,  1.2669898 , -0.78927234, -0.78927234,\n",
       "       -0.78927234, -0.78927234, -0.78927234, -0.78927234, -0.78927234,\n",
       "       -0.78927234, -0.78927234, -0.78927234,  1.2669898 ,  1.2669898 ,\n",
       "       -0.78927234,  1.2669898 ,  1.2669898 , -0.78927234, -0.78927234,\n",
       "        1.2669898 , -0.78927234,  1.2669898 ,  1.2669898 ,  1.2669898 ,\n",
       "        1.2669898 , -0.78927234, -0.78927234,  1.2669898 , -0.78927234,\n",
       "       -0.78927234, -0.78927234, -0.78927234, -0.78927234,  1.2669898 ,\n",
       "       -0.78927234, -0.78927234,  1.2669898 ,  1.2669898 ,  1.2669898 ,\n",
       "       -0.78927234,  1.2669898 , -0.78927234, -0.78927234, -0.78927234,\n",
       "        1.2669898 ,  1.2669898 , -0.78927234,  1.2669898 , -0.78927234,\n",
       "        1.2669898 , -0.78927234, -0.78927234, -0.78927234,  1.2669898 ,\n",
       "       -0.78927234,  1.2669898 , -0.78927234, -0.78927234, -0.78927234,\n",
       "        1.2669898 , -0.78927234, -0.78927234,  1.2669898 , -0.78927234,\n",
       "       -0.78927234, -0.78927234,  1.2669898 , -0.78927234, -0.78927234,\n",
       "       -0.78927234,  1.2669898 , -0.78927234, -0.78927234, -0.78927234,\n",
       "       -0.78927234, -0.78927234,  1.2669898 ,  1.2669898 , -0.78927234,\n",
       "       -0.78927234, -0.78927234, -0.78927234, -0.78927234, -0.78927234,\n",
       "        1.2669898 ,  1.2669898 ,  1.2669898 ,  1.2669898 ,  1.2669898 ,\n",
       "       -0.78927234,  1.2669898 , -0.78927234, -0.78927234, -0.78927234,\n",
       "       -0.78927234, -0.78927234,  1.2669898 ,  1.2669898 ,  1.2669898 ,\n",
       "       -0.78927234,  1.2669898 ,  1.2669898 , -0.78927234,  1.2669898 ,\n",
       "        1.2669898 , -0.78927234, -0.78927234, -0.78927234,  1.2669898 ,\n",
       "       -0.78927234, -0.78927234, -0.78927234,  1.2669898 , -0.78927234,\n",
       "       -0.78927234,  1.2669898 , -0.78927234,  1.2669898 ,  1.2669898 ,\n",
       "        1.2669898 ,  1.2669898 , -0.78927234, -0.78927234, -0.78927234,\n",
       "       -0.78927234, -0.78927234, -0.78927234,  1.2669898 ,  1.2669898 ,\n",
       "        1.2669898 ,  1.2669898 , -0.78927234,  1.2669898 , -0.78927234,\n",
       "        1.2669898 ,  1.2669898 ,  1.2669898 , -0.78927234,  1.2669898 ,\n",
       "        1.2669898 ,  1.2669898 , -0.78927234, -0.78927234, -0.78927234,\n",
       "        1.2669898 ,  1.2669898 , -0.78927234,  1.2669898 ,  1.2669898 ,\n",
       "       -0.78927234, -0.78927234,  1.2669898 ,  1.2669898 , -0.78927234,\n",
       "        1.2669898 , -0.78927234,  1.2669898 ,  1.2669898 ,  1.2669898 ,\n",
       "        1.2669898 , -0.78927234, -0.78927234, -0.78927234,  1.2669898 ,\n",
       "       -0.78927234, -0.78927234,  1.2669898 ,  1.2669898 , -0.78927234,\n",
       "        1.2669898 ,  1.2669898 , -0.78927234, -0.78927234, -0.78927234,\n",
       "        1.2669898 ,  1.2669898 ,  1.2669898 ,  1.2669898 , -0.78927234,\n",
       "       -0.78927234, -0.78927234, -0.78927234, -0.78927234, -0.78927234,\n",
       "       -0.78927234,  1.2669898 , -0.78927234,  1.2669898 ,  1.2669898 ,\n",
       "       -0.78927234, -0.78927234, -0.78927234, -0.78927234, -0.78927234,\n",
       "       -0.78927234,  1.2669898 ,  1.2669898 ,  1.2669898 ,  1.2669898 ,\n",
       "        1.2669898 , -0.78927234, -0.78927234, -0.78927234, -0.78927234,\n",
       "        1.2669898 ,  1.2669898 , -0.78927234, -0.78927234, -0.78927234,\n",
       "        1.2669898 ,  1.2669898 , -0.78927234,  1.2669898 , -0.78927234,\n",
       "       -0.78927234, -0.78927234,  1.2669898 , -0.78927234,  1.2669898 ,\n",
       "        1.2669898 ,  1.2669898 , -0.78927234,  1.2669898 ,  1.2669898 ,\n",
       "       -0.78927234, -0.78927234, -0.78927234, -0.78927234,  1.2669898 ,\n",
       "        1.2669898 , -0.78927234, -0.78927234, -0.78927234, -0.78927234,\n",
       "       -0.78927234, -0.78927234,  1.2669898 , -0.78927234, -0.78927234,\n",
       "       -0.78927234, -0.78927234,  1.2669898 , -0.78927234,  1.2669898 ,\n",
       "       -0.78927234,  1.2669898 ,  1.2669898 , -0.78927234, -0.78927234,\n",
       "       -0.78927234, -0.78927234, -0.78927234, -0.78927234, -0.78927234,\n",
       "       -0.78927234,  1.2669898 ,  1.2669898 , -0.78927234,  1.2669898 ,\n",
       "        1.2669898 ,  1.2669898 ,  1.2669898 , -0.78927234, -0.78927234,\n",
       "        1.2669898 , -0.78927234,  1.2669898 , -0.78927234, -0.78927234,\n",
       "        1.2669898 , -0.78927234, -0.78927234,  1.2669898 ,  1.2669898 ,\n",
       "        1.2669898 ,  1.2669898 ,  1.2669898 ,  1.2669898 ,  1.2669898 ,\n",
       "       -0.78927234, -0.78927234, -0.78927234,  1.2669898 , -0.78927234,\n",
       "        1.2669898 , -0.78927234,  1.2669898 ,  1.2669898 , -0.78927234,\n",
       "        1.2669898 , -0.78927234, -0.78927234, -0.78927234, -0.78927234,\n",
       "       -0.78927234, -0.78927234, -0.78927234, -0.78927234,  1.2669898 ,\n",
       "       -0.78927234, -0.78927234,  1.2669898 ,  1.2669898 , -0.78927234,\n",
       "       -0.78927234, -0.78927234, -0.78927234, -0.78927234,  1.2669898 ,\n",
       "       -0.78927234, -0.78927234, -0.78927234,  1.2669898 ,  1.2669898 ,\n",
       "       -0.78927234,  1.2669898 , -0.78927234, -0.78927234,  1.2669898 ,\n",
       "       -0.78927234, -0.78927234, -0.78927234, -0.78927234, -0.78927234,\n",
       "       -0.78927234,  1.2669898 , -0.78927234, -0.78927234, -0.78927234,\n",
       "       -0.78927234, -0.78927234, -0.78927234, -0.78927234,  1.2669898 ,\n",
       "       -0.78927234,  1.2669898 ,  1.2669898 , -0.78927234,  1.2669898 ,\n",
       "        1.2669898 , -0.78927234,  1.2669898 ,  1.2669898 , -0.78927234,\n",
       "       -0.78927234,  1.2669898 , -0.78927234,  1.2669898 , -0.78927234,\n",
       "        1.2669898 , -0.78927234, -0.78927234,  1.2669898 , -0.78927234,\n",
       "       -0.78927234,  1.2669898 , -0.78927234, -0.78927234, -0.78927234,\n",
       "        1.2669898 , -0.78927234, -0.78927234,  1.2669898 , -0.78927234,\n",
       "        1.2669898 , -0.78927234,  1.2669898 , -0.78927234,  1.2669898 ,\n",
       "        1.2669898 , -0.78927234, -0.78927234,  1.2669898 , -0.78927234,\n",
       "       -0.78927234,  1.2669898 ,  1.2669898 , -0.78927234,  1.2669898 ,\n",
       "        1.2669898 , -0.78927234, -0.78927234,  1.2669898 ,  1.2669898 ,\n",
       "       -0.78927234,  1.2669898 , -0.78927234,  1.2669898 ,  1.2669898 ,\n",
       "       -0.78927234, -0.78927234, -0.78927234, -0.78927234, -0.78927234,\n",
       "       -0.78927234, -0.78927234, -0.78927234, -0.78927234,  1.2669898 ,\n",
       "        1.2669898 ,  1.2669898 ,  1.2669898 ,  1.2669898 , -0.78927234,\n",
       "       -0.78927234,  1.2669898 ,  1.2669898 , -0.78927234,  1.2669898 ,\n",
       "        1.2669898 ,  1.2669898 , -0.78927234, -0.78927234, -0.78927234,\n",
       "        1.2669898 , -0.78927234,  1.2669898 , -0.78927234, -0.78927234,\n",
       "       -0.78927234,  1.2669898 , -0.78927234, -0.78927234, -0.78927234,\n",
       "       -0.78927234,  1.2669898 , -0.78927234, -0.78927234,  1.2669898 ,\n",
       "        1.2669898 , -0.78927234, -0.78927234, -0.78927234,  1.2669898 ,\n",
       "       -0.78927234, -0.78927234,  1.2669898 ,  1.2669898 ,  1.2669898 ,\n",
       "       -0.78927234, -0.78927234,  1.2669898 , -0.78927234, -0.78927234,\n",
       "        1.2669898 , -0.78927234, -0.78927234,  1.2669898 , -0.78927234,\n",
       "       -0.78927234,  1.2669898 ,  1.2669898 , -0.78927234, -0.78927234,\n",
       "       -0.78927234, -0.78927234,  1.2669898 , -0.78927234, -0.78927234,\n",
       "        1.2669898 , -0.78927234,  1.2669898 , -0.78927234, -0.78927234,\n",
       "        1.2669898 , -0.78927234, -0.78927234, -0.78927234, -0.78927234,\n",
       "       -0.78927234,  1.2669898 , -0.78927234,  1.2669898 ,  1.2669898 ,\n",
       "        1.2669898 , -0.78927234,  1.2669898 , -0.78927234,  1.2669898 ,\n",
       "       -0.78927234,  1.2669898 , -0.78927234,  1.2669898 , -0.78927234,\n",
       "       -0.78927234, -0.78927234, -0.78927234, -0.78927234, -0.78927234,\n",
       "        1.2669898 , -0.78927234, -0.78927234, -0.78927234,  1.2669898 ,\n",
       "       -0.78927234, -0.78927234, -0.78927234, -0.78927234,  1.2669898 ,\n",
       "        1.2669898 , -0.78927234, -0.78927234,  1.2669898 , -0.78927234,\n",
       "       -0.78927234, -0.78927234,  1.2669898 , -0.78927234,  1.2669898 ,\n",
       "       -0.78927234,  1.2669898 , -0.78927234, -0.78927234, -0.78927234,\n",
       "       -0.78927234, -0.78927234, -0.78927234, -0.78927234,  1.2669898 ,\n",
       "        1.2669898 ,  1.2669898 ,  1.2669898 , -0.78927234, -0.78927234,\n",
       "       -0.78927234, -0.78927234,  1.2669898 , -0.78927234, -0.78927234,\n",
       "        1.2669898 ,  1.2669898 , -0.78927234, -0.78927234, -0.78927234,\n",
       "       -0.78927234,  1.2669898 ,  1.2669898 ,  1.2669898 ,  1.2669898 ,\n",
       "        1.2669898 , -0.78927234,  1.2669898 , -0.78927234, -0.78927234,\n",
       "       -0.78927234,  1.2669898 ,  1.2669898 , -0.78927234, -0.78927234,\n",
       "        1.2669898 , -0.78927234, -0.78927234, -0.78927234,  1.2669898 ,\n",
       "       -0.78927234,  1.2669898 ,  1.2669898 , -0.78927234, -0.78927234,\n",
       "        1.2669898 , -0.78927234, -0.78927234, -0.78927234, -0.78927234,\n",
       "       -0.78927234, -0.78927234,  1.2669898 , -0.78927234, -0.78927234,\n",
       "        1.2669898 , -0.78927234,  1.2669898 , -0.78927234,  1.2669898 ,\n",
       "       -0.78927234, -0.78927234,  1.2669898 , -0.78927234, -0.78927234,\n",
       "        1.2669898 ,  1.2669898 , -0.78927234, -0.78927234,  1.2669898 ,\n",
       "        1.2669898 , -0.78927234, -0.78927234, -0.78927234,  1.2669898 ,\n",
       "       -0.78927234, -0.78927234,  1.2669898 ,  1.2669898 , -0.78927234,\n",
       "        1.2669898 , -0.78927234, -0.78927234, -0.78927234, -0.78927234,\n",
       "       -0.78927234, -0.78927234, -0.78927234, -0.78927234,  1.2669898 ,\n",
       "       -0.78927234, -0.78927234,  1.2669898 , -0.78927234,  1.2669898 ,\n",
       "        1.2669898 ,  1.2669898 , -0.78927234, -0.78927234, -0.78927234,\n",
       "       -0.78927234,  1.2669898 , -0.78927234,  1.2669898 , -0.78927234,\n",
       "       -0.78927234, -0.78927234, -0.78927234, -0.78927234, -0.78927234,\n",
       "       -0.78927234,  1.2669898 ,  1.2669898 , -0.78927234, -0.78927234,\n",
       "       -0.78927234,  1.2669898 ,  1.2669898 ,  1.2669898 ,  1.2669898 ,\n",
       "       -0.78927234, -0.78927234, -0.78927234, -0.78927234,  1.2669898 ,\n",
       "       -0.78927234, -0.78927234, -0.78927234, -0.78927234, -0.78927234,\n",
       "       -0.78927234, -0.78927234, -0.78927234, -0.78927234, -0.78927234,\n",
       "        1.2669898 ,  1.2669898 , -0.78927234,  1.2669898 , -0.78927234,\n",
       "       -0.78927234, -0.78927234,  1.2669898 ,  1.2669898 ,  1.2669898 ,\n",
       "        1.2669898 ,  1.2669898 , -0.78927234, -0.78927234, -0.78927234,\n",
       "        1.2669898 , -0.78927234, -0.78927234,  1.2669898 ,  1.2669898 ,\n",
       "       -0.78927234, -0.78927234,  1.2669898 , -0.78927234, -0.78927234,\n",
       "       -0.78927234, -0.78927234, -0.78927234, -0.78927234,  1.2669898 ,\n",
       "       -0.78927234, -0.78927234, -0.78927234,  1.2669898 , -0.78927234,\n",
       "        1.2669898 ,  1.2669898 ,  1.2669898 ,  1.2669898 , -0.78927234,\n",
       "       -0.78927234, -0.78927234,  1.2669898 , -0.78927234, -0.78927234,\n",
       "        1.2669898 ,  1.2669898 , -0.78927234, -0.78927234,  1.2669898 ,\n",
       "       -0.78927234,  1.2669898 , -0.78927234, -0.78927234,  1.2669898 ,\n",
       "        1.2669898 , -0.78927234, -0.78927234, -0.78927234,  1.2669898 ,\n",
       "        1.2669898 , -0.78927234, -0.78927234, -0.78927234, -0.78927234,\n",
       "       -0.78927234, -0.78927234,  1.2669898 , -0.78927234,  1.2669898 ,\n",
       "       -0.78927234])"
      ]
     },
     "execution_count": 24,
     "metadata": {},
     "output_type": "execute_result"
    }
   ],
   "source": [
    "df_scaler[:,0]"
   ]
  },
  {
   "cell_type": "code",
   "execution_count": 20,
   "id": "f15ef17c",
   "metadata": {},
   "outputs": [
    {
     "data": {
      "text/plain": [
       "(array([216.,   0.,   0.,   0.,   0., 184.,   0.,   0.,   0., 491.]),\n",
       " array([-1.56610693, -1.32675851, -1.08741009, -0.84806167, -0.60871326,\n",
       "        -0.36936484, -0.13001642,  0.10933199,  0.34868041,  0.58802883,\n",
       "         0.82737724]),\n",
       " <BarContainer object of 10 artists>)"
      ]
     },
     "execution_count": 20,
     "metadata": {},
     "output_type": "execute_result"
    },
    {
     "data": {
      "image/png": "[encoded data removed]",
      "text/plain": [
       "<Figure size 432x288 with 1 Axes>"
      ]
     },
     "metadata": {
      "needs_background": "light"
     },
     "output_type": "display_data"
    }
   ],
   "source": [
    "plt.hist(df_scaler[:,1],bins=10)"
   ]
  },
  {
   "cell_type": "code",
   "execution_count": 27,
   "id": "fc68c1d3",
   "metadata": {},
   "outputs": [
    {
     "data": {
      "text/plain": [
       "(array([ 30.,  14.,  10.,  14.,   3.,  29.,  39.,  65.,  73.,  42., 242.,\n",
       "         62.,  33.,  47.,  38.,  21.,  28.,  21.,  16.,  14.,  15.,   7.,\n",
       "          9.,   8.,   4.,   0.,   5.,   1.,   0.,   1.]),\n",
       " array([-2.22415608, -2.02029906, -1.81644204, -1.61258503, -1.40872801,\n",
       "        -1.20487099, -1.00101397, -0.79715696, -0.59329994, -0.38944292,\n",
       "        -0.1855859 ,  0.01827111,  0.22212813,  0.42598515,  0.62984217,\n",
       "         0.83369919,  1.0375562 ,  1.24141322,  1.44527024,  1.64912726,\n",
       "         1.85298427,  2.05684129,  2.26069831,  2.46455533,  2.66841235,\n",
       "         2.87226936,  3.07612638,  3.2799834 ,  3.48384042,  3.68769743,\n",
       "         3.89155445]),\n",
       " <BarContainer object of 30 artists>)"
      ]
     },
     "execution_count": 27,
     "metadata": {},
     "output_type": "execute_result"
    },
    {
     "data": {
      "image/png": "[encoded data removed]",
      "text/plain": [
       "<Figure size 432x288 with 1 Axes>"
      ]
     },
     "metadata": {
      "needs_background": "light"
     },
     "output_type": "display_data"
    }
   ],
   "source": [
    "plt.hist(df_scaler[:,2],bins=30)"
   ]
  },
  {
   "cell_type": "code",
   "execution_count": 28,
   "id": "6aba25fd",
   "metadata": {},
   "outputs": [
    {
     "data": {
      "text/plain": [
       "(array([385., 177., 139.,  31.,  41.,  26.,  31.,   8.,  11.,   4.,   7.,\n",
       "          9.,   2.,   0.,   0.,   0.,   4.,   5.,   0.,   2.,   6.,   0.,\n",
       "          0.,   0.,   0.,   0.,   0.,   0.,   0.,   0.,   0.,   0.,   0.,\n",
       "          0.,   0.,   0.,   0.,   0.,   0.,   3.]),\n",
       " array([-0.64842165, -0.39053195, -0.13264224,  0.12524746,  0.38313716,\n",
       "         0.64102687,  0.89891657,  1.15680628,  1.41469598,  1.67258569,\n",
       "         1.93047539,  2.1883651 ,  2.4462548 ,  2.7041445 ,  2.96203421,\n",
       "         3.21992391,  3.47781362,  3.73570332,  3.99359303,  4.25148273,\n",
       "         4.50937244,  4.76726214,  5.02515184,  5.28304155,  5.54093125,\n",
       "         5.79882096,  6.05671066,  6.31460037,  6.57249007,  6.83037978,\n",
       "         7.08826948,  7.34615918,  7.60404889,  7.86193859,  8.1198283 ,\n",
       "         8.377718  ,  8.63560771,  8.89349741,  9.15138712,  9.40927682,\n",
       "         9.66716653]),\n",
       " <BarContainer object of 40 artists>)"
      ]
     },
     "execution_count": 28,
     "metadata": {},
     "output_type": "execute_result"
    },
    {
     "data": {
      "image/png": "[encoded data removed]",
      "text/plain": [
       "<Figure size 432x288 with 1 Axes>"
      ]
     },
     "metadata": {
      "needs_background": "light"
     },
     "output_type": "display_data"
    }
   ],
   "source": [
    "plt.hist(df_scaler[:,3],bins=40)"
   ]
  },
  {
   "cell_type": "code",
   "execution_count": 33,
   "id": "2a436db9",
   "metadata": {},
   "outputs": [],
   "source": [
    "from sklearn.preprocessing import MinMaxScaler\n",
    "min_max = MinMaxScaler()\n",
    "min_max_transfermation = pd.DataFrame(min_max.fit_transform(df),columns=df.columns)"
   ]
  },
  {
   "cell_type": "code",
   "execution_count": 35,
   "id": "3ac37cae",
   "metadata": {},
   "outputs": [
    {
     "data": {
      "text/html": [
       "<div>\n",
       "<style scoped>\n",
       "    .dataframe tbody tr th:only-of-type {\n",
       "        vertical-align: middle;\n",
       "    }\n",
       "\n",
       "    .dataframe tbody tr th {\n",
       "        vertical-align: top;\n",
       "    }\n",
       "\n",
       "    .dataframe thead th {\n",
       "        text-align: right;\n",
       "    }\n",
       "</style>\n",
       "<table border=\"1\" class=\"dataframe\">\n",
       "  <thead>\n",
       "    <tr style=\"text-align: right;\">\n",
       "      <th></th>\n",
       "      <th>Survived</th>\n",
       "      <th>Pclass</th>\n",
       "      <th>Age</th>\n",
       "      <th>Fare</th>\n",
       "    </tr>\n",
       "  </thead>\n",
       "  <tbody>\n",
       "    <tr>\n",
       "      <th>0</th>\n",
       "      <td>0.0</td>\n",
       "      <td>1.0</td>\n",
       "      <td>0.271174</td>\n",
       "      <td>0.014151</td>\n",
       "    </tr>\n",
       "    <tr>\n",
       "      <th>1</th>\n",
       "      <td>1.0</td>\n",
       "      <td>0.0</td>\n",
       "      <td>0.472229</td>\n",
       "      <td>0.139136</td>\n",
       "    </tr>\n",
       "    <tr>\n",
       "      <th>2</th>\n",
       "      <td>1.0</td>\n",
       "      <td>1.0</td>\n",
       "      <td>0.321438</td>\n",
       "      <td>0.015469</td>\n",
       "    </tr>\n",
       "    <tr>\n",
       "      <th>3</th>\n",
       "      <td>1.0</td>\n",
       "      <td>0.0</td>\n",
       "      <td>0.434531</td>\n",
       "      <td>0.103644</td>\n",
       "    </tr>\n",
       "    <tr>\n",
       "      <th>4</th>\n",
       "      <td>0.0</td>\n",
       "      <td>1.0</td>\n",
       "      <td>0.434531</td>\n",
       "      <td>0.015713</td>\n",
       "    </tr>\n",
       "  </tbody>\n",
       "</table>\n",
       "</div>"
      ],
      "text/plain": [
       "   Survived  Pclass       Age      Fare\n",
       "0       0.0     1.0  0.271174  0.014151\n",
       "1       1.0     0.0  0.472229  0.139136\n",
       "2       1.0     1.0  0.321438  0.015469\n",
       "3       1.0     0.0  0.434531  0.103644\n",
       "4       0.0     1.0  0.434531  0.015713"
      ]
     },
     "execution_count": 35,
     "metadata": {},
     "output_type": "execute_result"
    }
   ],
   "source": [
    "min_max_transfermation.head()"
   ]
  },
  {
   "cell_type": "code",
   "execution_count": 38,
   "id": "179b2c1d",
   "metadata": {},
   "outputs": [
    {
     "data": {
      "text/plain": [
       "(array([216.,   0.,   0.,   0.,   0.,   0.,   0.,   0.,   0.,   0.,   0.,\n",
       "          0.,   0.,   0.,   0., 184.,   0.,   0.,   0.,   0.,   0.,   0.,\n",
       "          0.,   0.,   0.,   0.,   0.,   0.,   0., 491.]),\n",
       " array([0.        , 0.03333333, 0.06666667, 0.1       , 0.13333333,\n",
       "        0.16666667, 0.2       , 0.23333333, 0.26666667, 0.3       ,\n",
       "        0.33333333, 0.36666667, 0.4       , 0.43333333, 0.46666667,\n",
       "        0.5       , 0.53333333, 0.56666667, 0.6       , 0.63333333,\n",
       "        0.66666667, 0.7       , 0.73333333, 0.76666667, 0.8       ,\n",
       "        0.83333333, 0.86666667, 0.9       , 0.93333333, 0.96666667,\n",
       "        1.        ]),\n",
       " <BarContainer object of 30 artists>)"
      ]
     },
     "execution_count": 38,
     "metadata": {},
     "output_type": "execute_result"
    },
    {
     "data": {
      "image/png": "[encoded data removed]",
      "text/plain": [
       "<Figure size 432x288 with 1 Axes>"
      ]
     },
     "metadata": {
      "needs_background": "light"
     },
     "output_type": "display_data"
    }
   ],
   "source": [
    "plt.hist(min_max_transfermation['Pclass'],bins=30)"
   ]
  },
  {
   "cell_type": "code",
   "execution_count": 39,
   "id": "55cdb604",
   "metadata": {},
   "outputs": [
    {
     "data": {
      "text/plain": [
       "(array([ 40.,  14.,  15.,  31.,  79.,  98., 262.,  84.,  73.,  45.,  35.,\n",
       "         35.,  29.,  16.,  13.,  11.,   4.,   5.,   1.,   1.]),\n",
       " array([0.  , 0.05, 0.1 , 0.15, 0.2 , 0.25, 0.3 , 0.35, 0.4 , 0.45, 0.5 ,\n",
       "        0.55, 0.6 , 0.65, 0.7 , 0.75, 0.8 , 0.85, 0.9 , 0.95, 1.  ]),\n",
       " <BarContainer object of 20 artists>)"
      ]
     },
     "execution_count": 39,
     "metadata": {},
     "output_type": "execute_result"
    },
    {
     "data": {
      "image/png": "[encoded data removed]",
      "text/plain": [
       "<Figure size 432x288 with 1 Axes>"
      ]
     },
     "metadata": {
      "needs_background": "light"
     },
     "output_type": "display_data"
    }
   ],
   "source": [
    "plt.hist(min_max_transfermation['Age'],bins=20)"
   ]
  },
  {
   "cell_type": "code",
   "execution_count": 40,
   "id": "d37d2907",
   "metadata": {},
   "outputs": [
    {
     "data": {
      "text/plain": [
       "(array([562., 170.,  67.,  39.,  15.,  16.,   2.,   0.,   9.,   2.,   6.,\n",
       "          0.,   0.,   0.,   0.,   0.,   0.,   0.,   0.,   3.]),\n",
       " array([0.  , 0.05, 0.1 , 0.15, 0.2 , 0.25, 0.3 , 0.35, 0.4 , 0.45, 0.5 ,\n",
       "        0.55, 0.6 , 0.65, 0.7 , 0.75, 0.8 , 0.85, 0.9 , 0.95, 1.  ]),\n",
       " <BarContainer object of 20 artists>)"
      ]
     },
     "execution_count": 40,
     "metadata": {},
     "output_type": "execute_result"
    },
    {
     "data": {
      "image/png": "[encoded data removed]",
      "text/plain": [
       "<Figure size 432x288 with 1 Axes>"
      ]
     },
     "metadata": {
      "needs_background": "light"
     },
     "output_type": "display_data"
    }
   ],
   "source": [
    "plt.hist(min_max_transfermation['Fare'],bins=20)"
   ]
  },
  {
   "cell_type": "code",
   "execution_count": 41,
   "id": "a1abe8bd",
   "metadata": {},
   "outputs": [
    {
     "data": {
      "text/plain": [
       "(array([216.,   0.,   0.,   0.,   0.,   0.,   0.,   0.,   0.,   0., 184.,\n",
       "          0.,   0.,   0.,   0.,   0.,   0.,   0.,   0., 491.]),\n",
       " array([1. , 1.1, 1.2, 1.3, 1.4, 1.5, 1.6, 1.7, 1.8, 1.9, 2. , 2.1, 2.2,\n",
       "        2.3, 2.4, 2.5, 2.6, 2.7, 2.8, 2.9, 3. ]),\n",
       " <BarContainer object of 20 artists>)"
      ]
     },
     "execution_count": 41,
     "metadata": {},
     "output_type": "execute_result"
    },
    {
     "data": {
      "image/png": "[encoded data removed]",
      "text/plain": [
       "<Figure size 432x288 with 1 Axes>"
      ]
     },
     "metadata": {
      "needs_background": "light"
     },
     "output_type": "display_data"
    }
   ],
   "source": [
    "plt.hist(df['Pclass'],bins=20)"
   ]
  },
  {
   "cell_type": "code",
   "execution_count": 42,
   "id": "652311d2",
   "metadata": {},
   "outputs": [
    {
     "data": {
      "text/plain": [
       "(array([ 40.,  14.,  15.,  31.,  79.,  98., 262.,  84.,  73.,  45.,  35.,\n",
       "         35.,  29.,  16.,  13.,  11.,   4.,   5.,   1.,   1.]),\n",
       " array([ 0.42 ,  4.399,  8.378, 12.357, 16.336, 20.315, 24.294, 28.273,\n",
       "        32.252, 36.231, 40.21 , 44.189, 48.168, 52.147, 56.126, 60.105,\n",
       "        64.084, 68.063, 72.042, 76.021, 80.   ]),\n",
       " <BarContainer object of 20 artists>)"
      ]
     },
     "execution_count": 42,
     "metadata": {},
     "output_type": "execute_result"
    },
    {
     "data": {
      "image/png": "[encoded data removed]",
      "text/plain": [
       "<Figure size 432x288 with 1 Axes>"
      ]
     },
     "metadata": {
      "needs_background": "light"
     },
     "output_type": "display_data"
    }
   ],
   "source": [
    "plt.hist(df['Age'],bins=20)"
   ]
  },
  {
   "cell_type": "code",
   "execution_count": 43,
   "id": "e105ce0f",
   "metadata": {},
   "outputs": [
    {
     "data": {
      "text/plain": [
       "(array([ 40.,  14.,  15.,  31.,  79.,  98., 262.,  84.,  73.,  45.,  35.,\n",
       "         35.,  29.,  16.,  13.,  11.,   4.,   5.,   1.,   1.]),\n",
       " array([0.  , 0.05, 0.1 , 0.15, 0.2 , 0.25, 0.3 , 0.35, 0.4 , 0.45, 0.5 ,\n",
       "        0.55, 0.6 , 0.65, 0.7 , 0.75, 0.8 , 0.85, 0.9 , 0.95, 1.  ]),\n",
       " <BarContainer object of 20 artists>)"
      ]
     },
     "execution_count": 43,
     "metadata": {},
     "output_type": "execute_result"
    },
    {
     "data": {
      "image/png": "[encoded data removed]",
      "text/plain": [
       "<Figure size 432x288 with 1 Axes>"
      ]
     },
     "metadata": {
      "needs_background": "light"
     },
     "output_type": "display_data"
    }
   ],
   "source": [
    "plt.hist(min_max_transfermation['Age'],bins=20)"
   ]
  },
  {
   "cell_type": "code",
   "execution_count": 44,
   "id": "8696cbc5",
   "metadata": {},
   "outputs": [],
   "source": [
    "from sklearn.preprocessing import RobustScaler\n",
    "robust = RobustScaler()\n",
    "robust_max = pd.DataFrame(robust.fit_transform(df),columns=df.columns)"
   ]
  },
  {
   "cell_type": "code",
   "execution_count": 45,
   "id": "1c3dc5d5",
   "metadata": {},
   "outputs": [
    {
     "data": {
      "text/html": [
       "<div>\n",
       "<style scoped>\n",
       "    .dataframe tbody tr th:only-of-type {\n",
       "        vertical-align: middle;\n",
       "    }\n",
       "\n",
       "    .dataframe tbody tr th {\n",
       "        vertical-align: top;\n",
       "    }\n",
       "\n",
       "    .dataframe thead th {\n",
       "        text-align: right;\n",
       "    }\n",
       "</style>\n",
       "<table border=\"1\" class=\"dataframe\">\n",
       "  <thead>\n",
       "    <tr style=\"text-align: right;\">\n",
       "      <th></th>\n",
       "      <th>Survived</th>\n",
       "      <th>Pclass</th>\n",
       "      <th>Age</th>\n",
       "      <th>Fare</th>\n",
       "    </tr>\n",
       "  </thead>\n",
       "  <tbody>\n",
       "    <tr>\n",
       "      <th>0</th>\n",
       "      <td>0.0</td>\n",
       "      <td>0.0</td>\n",
       "      <td>-0.461538</td>\n",
       "      <td>-0.312011</td>\n",
       "    </tr>\n",
       "    <tr>\n",
       "      <th>1</th>\n",
       "      <td>1.0</td>\n",
       "      <td>-2.0</td>\n",
       "      <td>0.769231</td>\n",
       "      <td>2.461242</td>\n",
       "    </tr>\n",
       "    <tr>\n",
       "      <th>2</th>\n",
       "      <td>1.0</td>\n",
       "      <td>0.0</td>\n",
       "      <td>-0.153846</td>\n",
       "      <td>-0.282777</td>\n",
       "    </tr>\n",
       "    <tr>\n",
       "      <th>3</th>\n",
       "      <td>1.0</td>\n",
       "      <td>-2.0</td>\n",
       "      <td>0.538462</td>\n",
       "      <td>1.673732</td>\n",
       "    </tr>\n",
       "    <tr>\n",
       "      <th>4</th>\n",
       "      <td>0.0</td>\n",
       "      <td>0.0</td>\n",
       "      <td>0.538462</td>\n",
       "      <td>-0.277363</td>\n",
       "    </tr>\n",
       "    <tr>\n",
       "      <th>...</th>\n",
       "      <td>...</td>\n",
       "      <td>...</td>\n",
       "      <td>...</td>\n",
       "      <td>...</td>\n",
       "    </tr>\n",
       "    <tr>\n",
       "      <th>886</th>\n",
       "      <td>0.0</td>\n",
       "      <td>-1.0</td>\n",
       "      <td>-0.076923</td>\n",
       "      <td>-0.062981</td>\n",
       "    </tr>\n",
       "    <tr>\n",
       "      <th>887</th>\n",
       "      <td>1.0</td>\n",
       "      <td>-2.0</td>\n",
       "      <td>-0.692308</td>\n",
       "      <td>0.673281</td>\n",
       "    </tr>\n",
       "    <tr>\n",
       "      <th>888</th>\n",
       "      <td>0.0</td>\n",
       "      <td>0.0</td>\n",
       "      <td>0.000000</td>\n",
       "      <td>0.389604</td>\n",
       "    </tr>\n",
       "    <tr>\n",
       "      <th>889</th>\n",
       "      <td>1.0</td>\n",
       "      <td>-2.0</td>\n",
       "      <td>-0.153846</td>\n",
       "      <td>0.673281</td>\n",
       "    </tr>\n",
       "    <tr>\n",
       "      <th>890</th>\n",
       "      <td>0.0</td>\n",
       "      <td>0.0</td>\n",
       "      <td>0.307692</td>\n",
       "      <td>-0.290356</td>\n",
       "    </tr>\n",
       "  </tbody>\n",
       "</table>\n",
       "<p>891 rows × 4 columns</p>\n",
       "</div>"
      ],
      "text/plain": [
       "     Survived  Pclass       Age      Fare\n",
       "0         0.0     0.0 -0.461538 -0.312011\n",
       "1         1.0    -2.0  0.769231  2.461242\n",
       "2         1.0     0.0 -0.153846 -0.282777\n",
       "3         1.0    -2.0  0.538462  1.673732\n",
       "4         0.0     0.0  0.538462 -0.277363\n",
       "..        ...     ...       ...       ...\n",
       "886       0.0    -1.0 -0.076923 -0.062981\n",
       "887       1.0    -2.0 -0.692308  0.673281\n",
       "888       0.0     0.0  0.000000  0.389604\n",
       "889       1.0    -2.0 -0.153846  0.673281\n",
       "890       0.0     0.0  0.307692 -0.290356\n",
       "\n",
       "[891 rows x 4 columns]"
      ]
     },
     "execution_count": 45,
     "metadata": {},
     "output_type": "execute_result"
    }
   ],
   "source": [
    "robust_max"
   ]
  },
  {
   "cell_type": "code",
   "execution_count": 46,
   "id": "f39251e6",
   "metadata": {},
   "outputs": [
    {
     "data": {
      "text/plain": [
       "(array([ 40.,  14.,  15.,  31.,  79.,  98., 262.,  84.,  73.,  45.,  35.,\n",
       "         35.,  29.,  16.,  13.,  11.,   4.,   5.,   1.,   1.]),\n",
       " array([-2.12153846, -1.81546154, -1.50938462, -1.20330769, -0.89723077,\n",
       "        -0.59115385, -0.28507692,  0.021     ,  0.32707692,  0.63315385,\n",
       "         0.93923077,  1.24530769,  1.55138462,  1.85746154,  2.16353846,\n",
       "         2.46961538,  2.77569231,  3.08176923,  3.38784615,  3.69392308,\n",
       "         4.        ]),\n",
       " <BarContainer object of 20 artists>)"
      ]
     },
     "execution_count": 46,
     "metadata": {},
     "output_type": "execute_result"
    },
    {
     "data": {
      "image/png": "[encoded data removed]",
      "text/plain": [
       "<Figure size 432x288 with 1 Axes>"
      ]
     },
     "metadata": {
      "needs_background": "light"
     },
     "output_type": "display_data"
    }
   ],
   "source": [
    "plt.hist(robust_max['Age'],bins=20)"
   ]
  },
  {
   "cell_type": "code",
   "execution_count": 81,
   "id": "d72a961a",
   "metadata": {},
   "outputs": [
    {
     "data": {
      "text/plain": [
       "(891, 4)"
      ]
     },
     "execution_count": 81,
     "metadata": {},
     "output_type": "execute_result"
    }
   ],
   "source": [
    "df = pd.read_csv('C:/Users/DELL/Downloads/Feature Engineering/Feature/Engineering/titanic.csv',usecols=['Pclass','Age','Fare','Survived'])\n",
    "df.shape"
   ]
  },
  {
   "cell_type": "code",
   "execution_count": 82,
   "id": "8ca03f76",
   "metadata": {},
   "outputs": [
    {
     "data": {
      "text/html": [
       "<div>\n",
       "<style scoped>\n",
       "    .dataframe tbody tr th:only-of-type {\n",
       "        vertical-align: middle;\n",
       "    }\n",
       "\n",
       "    .dataframe tbody tr th {\n",
       "        vertical-align: top;\n",
       "    }\n",
       "\n",
       "    .dataframe thead th {\n",
       "        text-align: right;\n",
       "    }\n",
       "</style>\n",
       "<table border=\"1\" class=\"dataframe\">\n",
       "  <thead>\n",
       "    <tr style=\"text-align: right;\">\n",
       "      <th></th>\n",
       "      <th>Survived</th>\n",
       "      <th>Pclass</th>\n",
       "      <th>Age</th>\n",
       "      <th>Fare</th>\n",
       "    </tr>\n",
       "  </thead>\n",
       "  <tbody>\n",
       "    <tr>\n",
       "      <th>0</th>\n",
       "      <td>0</td>\n",
       "      <td>3</td>\n",
       "      <td>22.0</td>\n",
       "      <td>7.2500</td>\n",
       "    </tr>\n",
       "    <tr>\n",
       "      <th>1</th>\n",
       "      <td>1</td>\n",
       "      <td>1</td>\n",
       "      <td>38.0</td>\n",
       "      <td>71.2833</td>\n",
       "    </tr>\n",
       "    <tr>\n",
       "      <th>2</th>\n",
       "      <td>1</td>\n",
       "      <td>3</td>\n",
       "      <td>26.0</td>\n",
       "      <td>7.9250</td>\n",
       "    </tr>\n",
       "    <tr>\n",
       "      <th>3</th>\n",
       "      <td>1</td>\n",
       "      <td>1</td>\n",
       "      <td>35.0</td>\n",
       "      <td>53.1000</td>\n",
       "    </tr>\n",
       "    <tr>\n",
       "      <th>4</th>\n",
       "      <td>0</td>\n",
       "      <td>3</td>\n",
       "      <td>35.0</td>\n",
       "      <td>8.0500</td>\n",
       "    </tr>\n",
       "    <tr>\n",
       "      <th>...</th>\n",
       "      <td>...</td>\n",
       "      <td>...</td>\n",
       "      <td>...</td>\n",
       "      <td>...</td>\n",
       "    </tr>\n",
       "    <tr>\n",
       "      <th>886</th>\n",
       "      <td>0</td>\n",
       "      <td>2</td>\n",
       "      <td>27.0</td>\n",
       "      <td>13.0000</td>\n",
       "    </tr>\n",
       "    <tr>\n",
       "      <th>887</th>\n",
       "      <td>1</td>\n",
       "      <td>1</td>\n",
       "      <td>19.0</td>\n",
       "      <td>30.0000</td>\n",
       "    </tr>\n",
       "    <tr>\n",
       "      <th>888</th>\n",
       "      <td>0</td>\n",
       "      <td>3</td>\n",
       "      <td>NaN</td>\n",
       "      <td>23.4500</td>\n",
       "    </tr>\n",
       "    <tr>\n",
       "      <th>889</th>\n",
       "      <td>1</td>\n",
       "      <td>1</td>\n",
       "      <td>26.0</td>\n",
       "      <td>30.0000</td>\n",
       "    </tr>\n",
       "    <tr>\n",
       "      <th>890</th>\n",
       "      <td>0</td>\n",
       "      <td>3</td>\n",
       "      <td>32.0</td>\n",
       "      <td>7.7500</td>\n",
       "    </tr>\n",
       "  </tbody>\n",
       "</table>\n",
       "<p>891 rows × 4 columns</p>\n",
       "</div>"
      ],
      "text/plain": [
       "     Survived  Pclass   Age     Fare\n",
       "0           0       3  22.0   7.2500\n",
       "1           1       1  38.0  71.2833\n",
       "2           1       3  26.0   7.9250\n",
       "3           1       1  35.0  53.1000\n",
       "4           0       3  35.0   8.0500\n",
       "..        ...     ...   ...      ...\n",
       "886         0       2  27.0  13.0000\n",
       "887         1       1  19.0  30.0000\n",
       "888         0       3   NaN  23.4500\n",
       "889         1       1  26.0  30.0000\n",
       "890         0       3  32.0   7.7500\n",
       "\n",
       "[891 rows x 4 columns]"
      ]
     },
     "execution_count": 82,
     "metadata": {},
     "output_type": "execute_result"
    }
   ],
   "source": [
    "df"
   ]
  },
  {
   "cell_type": "code",
   "execution_count": 83,
   "id": "d59bd9bd",
   "metadata": {},
   "outputs": [],
   "source": [
    "df['Age']=df['Age'].fillna(df['Age'].median())"
   ]
  },
  {
   "cell_type": "code",
   "execution_count": 84,
   "id": "938dd369",
   "metadata": {},
   "outputs": [
    {
     "data": {
      "text/html": [
       "<div>\n",
       "<style scoped>\n",
       "    .dataframe tbody tr th:only-of-type {\n",
       "        vertical-align: middle;\n",
       "    }\n",
       "\n",
       "    .dataframe tbody tr th {\n",
       "        vertical-align: top;\n",
       "    }\n",
       "\n",
       "    .dataframe thead th {\n",
       "        text-align: right;\n",
       "    }\n",
       "</style>\n",
       "<table border=\"1\" class=\"dataframe\">\n",
       "  <thead>\n",
       "    <tr style=\"text-align: right;\">\n",
       "      <th></th>\n",
       "      <th>Survived</th>\n",
       "      <th>Pclass</th>\n",
       "      <th>Age</th>\n",
       "      <th>Fare</th>\n",
       "    </tr>\n",
       "  </thead>\n",
       "  <tbody>\n",
       "    <tr>\n",
       "      <th>0</th>\n",
       "      <td>0</td>\n",
       "      <td>3</td>\n",
       "      <td>22.0</td>\n",
       "      <td>7.2500</td>\n",
       "    </tr>\n",
       "    <tr>\n",
       "      <th>1</th>\n",
       "      <td>1</td>\n",
       "      <td>1</td>\n",
       "      <td>38.0</td>\n",
       "      <td>71.2833</td>\n",
       "    </tr>\n",
       "    <tr>\n",
       "      <th>2</th>\n",
       "      <td>1</td>\n",
       "      <td>3</td>\n",
       "      <td>26.0</td>\n",
       "      <td>7.9250</td>\n",
       "    </tr>\n",
       "    <tr>\n",
       "      <th>3</th>\n",
       "      <td>1</td>\n",
       "      <td>1</td>\n",
       "      <td>35.0</td>\n",
       "      <td>53.1000</td>\n",
       "    </tr>\n",
       "    <tr>\n",
       "      <th>4</th>\n",
       "      <td>0</td>\n",
       "      <td>3</td>\n",
       "      <td>35.0</td>\n",
       "      <td>8.0500</td>\n",
       "    </tr>\n",
       "  </tbody>\n",
       "</table>\n",
       "</div>"
      ],
      "text/plain": [
       "   Survived  Pclass   Age     Fare\n",
       "0         0       3  22.0   7.2500\n",
       "1         1       1  38.0  71.2833\n",
       "2         1       3  26.0   7.9250\n",
       "3         1       1  35.0  53.1000\n",
       "4         0       3  35.0   8.0500"
      ]
     },
     "execution_count": 84,
     "metadata": {},
     "output_type": "execute_result"
    }
   ],
   "source": [
    "df.head(5)"
   ]
  },
  {
   "cell_type": "code",
   "execution_count": 85,
   "id": "217479a7",
   "metadata": {},
   "outputs": [
    {
     "data": {
      "text/plain": [
       "Survived    0\n",
       "Pclass      0\n",
       "Age         0\n",
       "Fare        0\n",
       "dtype: int64"
      ]
     },
     "execution_count": 85,
     "metadata": {},
     "output_type": "execute_result"
    }
   ],
   "source": [
    "df.isnull().sum()"
   ]
  },
  {
   "cell_type": "code",
   "execution_count": 64,
   "id": "1584be99",
   "metadata": {},
   "outputs": [],
   "source": [
    "import scipy.stats as stat\n",
    "import pylab"
   ]
  },
  {
   "cell_type": "code",
   "execution_count": 71,
   "id": "d16b1e11",
   "metadata": {},
   "outputs": [],
   "source": [
    "def plot_data_1(df,feture):\n",
    "    plt.figure(figsize=(12,6))\n",
    "    plt.subplot(1,2,1)\n",
    "    df[feture].hist()\n",
    "    plt.subplot(1,2,2)\n",
    "    stat.probplot(df[feture],dist='norm',plot=pylab)\n",
    "    plt.show()"
   ]
  },
  {
   "cell_type": "code",
   "execution_count": 86,
   "id": "fc5cc03f",
   "metadata": {},
   "outputs": [
    {
     "data": {
      "image/png": "[encoded data removed]",
      "text/plain": [
       "<Figure size 864x432 with 2 Axes>"
      ]
     },
     "metadata": {
      "needs_background": "light"
     },
     "output_type": "display_data"
    }
   ],
   "source": [
    "plot_data_1(df,'Age')"
   ]
  },
  {
   "cell_type": "markdown",
   "id": "1d0ab15a",
   "metadata": {},
   "source": [
    "### Logarithamic transfermation"
   ]
  },
  {
   "cell_type": "code",
   "execution_count": 87,
   "id": "81c2d5f4",
   "metadata": {},
   "outputs": [
    {
     "data": {
      "image/png": "[encoded data removed]",
      "text/plain": [
       "<Figure size 864x432 with 2 Axes>"
      ]
     },
     "metadata": {
      "needs_background": "light"
     },
     "output_type": "display_data"
    }
   ],
   "source": [
    "df['Age_log']=np.log(df['Age'])\n",
    "plot_data_1(df,'Age_log')"
   ]
  },
  {
   "cell_type": "markdown",
   "id": "618daa33",
   "metadata": {},
   "source": [
    "#### Reciprocal Transfermation"
   ]
  },
  {
   "cell_type": "code",
   "execution_count": 88,
   "id": "b71032fa",
   "metadata": {},
   "outputs": [
    {
     "data": {
      "image/png": "[encoded data removed]",
      "text/plain": [
       "<Figure size 864x432 with 2 Axes>"
      ]
     },
     "metadata": {
      "needs_background": "light"
     },
     "output_type": "display_data"
    }
   ],
   "source": [
    "df['Age_reciprocal']=1/df.Age\n",
    "plot_data_1(df,'Age_reciprocal')"
   ]
  },
  {
   "cell_type": "markdown",
   "id": "36324a2e",
   "metadata": {},
   "source": [
    "#### Squre root transfermation"
   ]
  },
  {
   "cell_type": "code",
   "execution_count": 89,
   "id": "f771044a",
   "metadata": {},
   "outputs": [
    {
     "data": {
      "image/png": "[encoded data removed]",
      "text/plain": [
       "<Figure size 864x432 with 2 Axes>"
      ]
     },
     "metadata": {
      "needs_background": "light"
     },
     "output_type": "display_data"
    }
   ],
   "source": [
    "df['Age_sqaure']=df.Age**(1/2)\n",
    "plot_data(df,'Age_sqaure')"
   ]
  },
  {
   "cell_type": "markdown",
   "id": "dc60240a",
   "metadata": {},
   "source": [
    "### Exponational Transermation"
   ]
  },
  {
   "cell_type": "code",
   "execution_count": 91,
   "id": "7993cd58",
   "metadata": {},
   "outputs": [
    {
     "data": {
      "image/png": "[encoded data removed]",
      "text/plain": [
       "<Figure size 864x432 with 2 Axes>"
      ]
     },
     "metadata": {
      "needs_background": "light"
     },
     "output_type": "display_data"
    }
   ],
   "source": [
    "df['Age_Eponational']=df.Age**(1/1.2)\n",
    "plot_data_1(df,'Age_Eponational')"
   ]
  },
  {
   "cell_type": "markdown",
   "id": "ea3943b3",
   "metadata": {},
   "source": [
    "### Box Cox Transermation"
   ]
  },
  {
   "cell_type": "code",
   "execution_count": 93,
   "id": "c3084b0f",
   "metadata": {},
   "outputs": [],
   "source": [
    "df['Age_box_cox'],parameter=stat.boxcox(df['Age'])"
   ]
  },
  {
   "cell_type": "code",
   "execution_count": 94,
   "id": "0f244c08",
   "metadata": {},
   "outputs": [
    {
     "data": {
      "image/png": "[encoded data removed]",
      "text/plain": [
       "<Figure size 864x432 with 2 Axes>"
      ]
     },
     "metadata": {
      "needs_background": "light"
     },
     "output_type": "display_data"
    }
   ],
   "source": [
    "plot_data_1(df,'Age_box_cox')"
   ]
  },
  {
   "cell_type": "markdown",
   "id": "84ebed04",
   "metadata": {},
   "source": [
    "### Log Tranfrmation using Log1p"
   ]
  },
  {
   "cell_type": "code",
   "execution_count": 95,
   "id": "6c29c80f",
   "metadata": {},
   "outputs": [
    {
     "data": {
      "image/png": "[encoded data removed]",
      "text/plain": [
       "<Figure size 864x432 with 2 Axes>"
      ]
     },
     "metadata": {
      "needs_background": "light"
     },
     "output_type": "display_data"
    }
   ],
   "source": [
    "df['Fare_log1p']=np.log1p(df['Fare'])\n",
    "plot_data_1(df,'Fare_log1p')"
   ]
  },
  {
   "cell_type": "code",
   "execution_count": null,
   "id": "b91d2f8c",
   "metadata": {},
   "outputs": [],
   "source": []
  }
 ],
 "metadata": {
  "kernelspec": {
   "display_name": "Python 3 (ipykernel)",
   "language": "python",
   "name": "python3"
  },
  "language_info": {
   "codemirror_mode": {
    "name": "ipython",
    "version": 3
   },
   "file_extension": ".py",
   "mimetype": "text/x-python",
   "name": "python",
   "nbconvert_exporter": "python",
   "pygments_lexer": "ipython3",
   "version": "3.7.11"
  }
 },
 "nbformat": 4,
 "nbformat_minor": 5
}
